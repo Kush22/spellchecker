{
 "cells": [
  {
   "cell_type": "markdown",
   "metadata": {
    "toc": "true"
   },
   "source": [
    " # Table of Contents\n",
    "<div class=\"toc\" style=\"margin-top: 1em;\"><ul class=\"toc-item\" id=\"toc-level0\"><li><span><a href=\"http://localhost:8889/notebooks/Dropbox/myprojects/hansard/SpellCheck.ipynb#Load-the-pretrained-vectors\" data-toc-modified-id=\"Load-the-pretrained-vectors-1\"><span class=\"toc-item-num\">1&nbsp;&nbsp;</span>Load the pretrained vectors</a></span><ul class=\"toc-item\"><li><span><a href=\"http://localhost:8889/notebooks/Dropbox/myprojects/hansard/SpellCheck.ipynb#Create-Faiss-index\" data-toc-modified-id=\"Create-Faiss-index-1.1\"><span class=\"toc-item-num\">1.1&nbsp;&nbsp;</span>Create Faiss index</a></span></li></ul></li><li><span><a href=\"http://localhost:8889/notebooks/Dropbox/myprojects/hansard/SpellCheck.ipynb#Nearest-neighbour-calculations\" data-toc-modified-id=\"Nearest-neighbour-calculations-2\"><span class=\"toc-item-num\">2&nbsp;&nbsp;</span>Nearest neighbour calculations</a></span><ul class=\"toc-item\"><li><span><a href=\"http://localhost:8889/notebooks/Dropbox/myprojects/hansard/SpellCheck.ipynb#Define-nearest-neighbour-helper-functions\" data-toc-modified-id=\"Define-nearest-neighbour-helper-functions-2.1\"><span class=\"toc-item-num\">2.1&nbsp;&nbsp;</span>Define nearest neighbour helper functions</a></span></li><li><span><a href=\"http://localhost:8889/notebooks/Dropbox/myprojects/hansard/SpellCheck.ipynb#Some-experiments---checking-it-is-all-working\" data-toc-modified-id=\"Some-experiments---checking-it-is-all-working-2.2\"><span class=\"toc-item-num\">2.2&nbsp;&nbsp;</span>Some experiments - checking it is all working</a></span></li></ul></li><li><span><a href=\"http://localhost:8889/notebooks/Dropbox/myprojects/hansard/SpellCheck.ipynb#Building-a-spelling-correction-vector\" data-toc-modified-id=\"Building-a-spelling-correction-vector-3\"><span class=\"toc-item-num\">3&nbsp;&nbsp;</span>Building a spelling correction vector</a></span><ul class=\"toc-item\"><li><span><a href=\"http://localhost:8889/notebooks/Dropbox/myprojects/hansard/SpellCheck.ipynb#Create-an-initial-spelling-correction-transformation-vector\" data-toc-modified-id=\"Create-an-initial-spelling-correction-transformation-vector-3.1\"><span class=\"toc-item-num\">3.1&nbsp;&nbsp;</span>Create an initial spelling correction transformation vector</a></span></li></ul></li><li><span><a href=\"http://localhost:8889/notebooks/Dropbox/myprojects/hansard/SpellCheck.ipynb#Build-a-bigger-training-set\" data-toc-modified-id=\"Build-a-bigger-training-set-4\"><span class=\"toc-item-num\">4&nbsp;&nbsp;</span>Build a bigger training set</a></span><ul class=\"toc-item\"><li><span><a href=\"http://localhost:8889/notebooks/Dropbox/myprojects/hansard/SpellCheck.ipynb#Building-a-list-of-correctly-spelled-words\" data-toc-modified-id=\"Building-a-list-of-correctly-spelled-words-4.1\"><span class=\"toc-item-num\">4.1&nbsp;&nbsp;</span>Building a list of correctly spelled words</a></span></li></ul></li><li><span><a href=\"http://localhost:8889/notebooks/Dropbox/myprojects/hansard/SpellCheck.ipynb#Building-a-spell-correcting-dictionary\" data-toc-modified-id=\"Building-a-spell-correcting-dictionary-5\"><span class=\"toc-item-num\">5&nbsp;&nbsp;</span>Building a spell correcting dictionary</a></span></li><li><span><a href=\"http://localhost:8889/notebooks/Dropbox/myprojects/hansard/SpellCheck.ipynb#A-text-score-for-formality\" data-toc-modified-id=\"A-text-score-for-formality-6\"><span class=\"toc-item-num\">6&nbsp;&nbsp;</span>A text score for formality</a></span></li></ul></div>"
   ]
  },
  {
   "cell_type": "code",
   "execution_count": 5,
   "metadata": {},
   "outputs": [],
   "source": [
    "import pandas as pd\n",
    "import numpy as np  # linear algebra\n",
    "import string\n",
    "import re\n",
    "import sys\n",
    "import os\n",
    "\n",
    "import jellyfish # library for fuzzy text comparisons\n",
    "\n",
    "from sklearn.model_selection import train_test_split\n",
    "from scipy.spatial.distance import cdist\n",
    "import matplotlib.pyplot as plt\n",
    "\n",
    "from tqdm import tqdm_pandas, tqdm_notebook as tqdm\n",
    "from tqdm import tqdm as tqorig\n",
    "tqorig.pandas(tqdm)"
   ]
  },
  {
   "cell_type": "code",
   "execution_count": 6,
   "metadata": {},
   "outputs": [],
   "source": [
    "# Edit the paths below to point to your local files \n",
    "# Note you can download the GloVe vectors from https://nlp.stanford.edu/projects/glove/\n",
    "# For best results use the very largest set - the 840 billion word version\n",
    "PATH_TO_GLOVE = '/home/ed/InferSent/dataset/GloVe/glove.840B.300d.txt'"
   ]
  },
  {
   "cell_type": "code",
   "execution_count": 27,
   "metadata": {},
   "outputs": [],
   "source": [
    "# If you want to run the full analysis, you will need to install something like faiss to enable much faster nearest neighbour queries than are possible with scipy / sklearn\n",
    "# Take a look at https://github.com/facebookresearch/faiss for download and installation instructions\n",
    "\n",
    "PATH_TO_FAISS = '~/faiss'"
   ]
  },
  {
   "cell_type": "code",
   "execution_count": 28,
   "metadata": {},
   "outputs": [
    {
     "name": "stderr",
     "output_type": "stream",
     "text": [
      "Failed to load GPU Faiss: /home/ed/faiss/_swigfaiss_gpu.so: undefined symbol: PyCObject_Type\n",
      "Faiss falling back to CPU-only.\n"
     ]
    }
   ],
   "source": [
    "try:\n",
    "    sys.path.append(os.path.expanduser(PATH_TO_FAISS))\n",
    "    import faiss\n",
    "    FAISS_AVAILABLE = True\n",
    "except:\n",
    "    FAISS_AVAILABLE = False    "
   ]
  },
  {
   "cell_type": "code",
   "execution_count": 9,
   "metadata": {},
   "outputs": [],
   "source": [
    "%matplotlib inline\n",
    "%load_ext autoreload\n",
    "%autoreload 2\n",
    "pd.set_option('display.max_colwidth', -1)"
   ]
  },
  {
   "cell_type": "code",
   "execution_count": 10,
   "metadata": {},
   "outputs": [
    {
     "data": {
      "text/html": [
       "<style>.container { width:80% !important; }</style>"
      ],
      "text/plain": [
       "<IPython.core.display.HTML object>"
      ]
     },
     "metadata": {},
     "output_type": "display_data"
    }
   ],
   "source": [
    "# Make the jupyter notebook cells wider\n",
    "from IPython.core.display import display, HTML\n",
    "display(HTML(\"<style>.container { width:80% !important; }</style>\"))"
   ]
  },
  {
   "cell_type": "markdown",
   "metadata": {},
   "source": [
    "## Load the pretrained vectors "
   ]
  },
  {
   "cell_type": "code",
   "execution_count": 16,
   "metadata": {
    "code_folding": [
     0
    ]
   },
   "outputs": [],
   "source": [
    "def get_all_glove(glove_path):\n",
    "    # create word_vec with glove vectors\n",
    "    glove_dict = {}\n",
    "    with open(glove_path) as f:\n",
    "        for line in tqdm(f):\n",
    "            word, vec = line.split(' ', 1)\n",
    "            glove_dict[word] = np.array(list(map(float, vec.split())), dtype=np.float32)\n",
    "    return glove_dict"
   ]
  },
  {
   "cell_type": "code",
   "execution_count": 17,
   "metadata": {},
   "outputs": [
    {
     "data": {
      "application/vnd.jupyter.widget-view+json": {
       "model_id": "7de3f01dacda4419a1691f3d86744ded",
       "version_major": 2,
       "version_minor": 0
      },
      "text/html": [
       "<p>Failed to display Jupyter Widget of type <code>HBox</code>.</p>\n",
       "<p>\n",
       "  If you're reading this message in the Jupyter Notebook or JupyterLab Notebook, it may mean\n",
       "  that the widgets JavaScript is still loading. If this message persists, it\n",
       "  likely means that the widgets JavaScript library is either not installed or\n",
       "  not enabled. See the <a href=\"https://ipywidgets.readthedocs.io/en/stable/user_install.html\">Jupyter\n",
       "  Widgets Documentation</a> for setup instructions.\n",
       "</p>\n",
       "<p>\n",
       "  If you're reading this message in another frontend (for example, a static\n",
       "  rendering on GitHub or <a href=\"https://nbviewer.jupyter.org/\">NBViewer</a>),\n",
       "  it may mean that your frontend doesn't currently support widgets.\n",
       "</p>\n"
      ],
      "text/plain": [
       "HBox(children=(IntProgress(value=1, bar_style='info', max=1), HTML(value='')))"
      ]
     },
     "metadata": {},
     "output_type": "display_data"
    },
    {
     "name": "stdout",
     "output_type": "stream",
     "text": [
      "\n"
     ]
    }
   ],
   "source": [
    "# Load the GloVe vectors into a dictionary\n",
    "glove = get_all_glove(PATH_TO_GLOVE)"
   ]
  },
  {
   "cell_type": "code",
   "execution_count": 18,
   "metadata": {},
   "outputs": [],
   "source": [
    "# Convert the dictionary to an embedding matrix, a dictionary mapping from word to id, and a list which will map from id to word\n",
    "emb = np.zeros((len(glove), 300), dtype=np.float32)\n",
    "w2id = {}\n",
    "id2w=[]\n",
    "for cc, word in enumerate(glove.keys()):\n",
    "    emb[cc]=glove[word]\n",
    "    w2id[word]=cc\n",
    "    id2w.append(word)"
   ]
  },
  {
   "cell_type": "markdown",
   "metadata": {},
   "source": [
    "The next cell normalises the vectors to unit length. This apparently often improves the performance of semantic comparisons within the vector space. However, my reason for doing so is that I want to use faiss (https://github.com/facebookresearch/faiss) for nearest neighbour similarity searching. It is much faster than using scipy distance functions, but a bit less flexible. In order to perform cosine similarity searches you must first normalise the vectors which will form the index."
   ]
  },
  {
   "cell_type": "code",
   "execution_count": 19,
   "metadata": {},
   "outputs": [],
   "source": [
    "emb = emb / np.linalg.norm(emb, axis=1, keepdims=True)"
   ]
  },
  {
   "cell_type": "markdown",
   "metadata": {},
   "source": [
    "### Create Faiss index "
   ]
  },
  {
   "cell_type": "markdown",
   "metadata": {},
   "source": [
    "Before we can perform nearest neighbour / similarity queries in vector space, we must first build an index of all the vectors in the vocabulary.  "
   ]
  },
  {
   "cell_type": "code",
   "execution_count": 29,
   "metadata": {},
   "outputs": [
    {
     "name": "stdout",
     "output_type": "stream",
     "text": [
      "2196016 words now in index\n"
     ]
    }
   ],
   "source": [
    "if FAISS_AVAILABLE:\n",
    "    d = emb.shape[1]                            # will be 300 - it's the number of dimensions of each word vector\n",
    "    # index = faiss.IndexFlatL2(d)\n",
    "    index = faiss.IndexFlatIP(d)                # This creates the index\n",
    "    index.add(emb)                              # This adds all the word vectors to the index\n",
    "    print(index.ntotal, 'words now in index')"
   ]
  },
  {
   "cell_type": "markdown",
   "metadata": {},
   "source": [
    "## Nearest neighbour calculations "
   ]
  },
  {
   "cell_type": "markdown",
   "metadata": {},
   "source": [
    "### Define nearest neighbour helper functions "
   ]
  },
  {
   "cell_type": "markdown",
   "metadata": {},
   "source": [
    "We define a function to find the nearest neighbours for each word in a given list.\n",
    "We also include the option of a tranformation vector, and a multiplier, the product of which wil be subtracted from each word vector before finding nearest neighbours. \n",
    "This function returns a sorted list of indices to the nearest neighbour words."
   ]
  },
  {
   "cell_type": "code",
   "execution_count": 32,
   "metadata": {},
   "outputs": [],
   "source": [
    "def getNeighbours(word_list, transform_vector=0, c=1.0, neighbours=10, metric='cosine', use_faiss=FAISS_AVAILABLE):\n",
    "    word_embeds = np.vstack([emb[w2id[x]] for x in word_list]) # create a numpy array of word embeddings\n",
    "\n",
    "    if use_faiss:\n",
    "        distances, indices = index.search(\n",
    "            (word_embeds - transform_vector*c).astype(np.float32), neighbours)\n",
    "    else:\n",
    "        dist_matrix = cdist(\n",
    "            (word_embeds - transform_vector*c).astype(np.float32), emb, metric=metric)\n",
    "        indices = np.argsort(dist_matrix)[:, :neighbours]\n",
    "    return indices"
   ]
  },
  {
   "cell_type": "markdown",
   "metadata": {},
   "source": [
    "Most of the time we will want to look at the words rather than the indices, so we can make another simple helper function to take the output from the getNeighbours functions and output lists of words."
   ]
  },
  {
   "cell_type": "code",
   "execution_count": 22,
   "metadata": {},
   "outputs": [],
   "source": [
    "def toWords(index_list, n=10):\n",
    "    res = []\n",
    "    for ind in index_list:\n",
    "        # if n=1 convert to a simple list rather than a nested list\n",
    "        if n==1:\n",
    "            res.append(id2w[ind[0]])\n",
    "        else:\n",
    "            res.append([id2w[x] for x in ind[:n]])\n",
    "    return res"
   ]
  },
  {
   "cell_type": "markdown",
   "metadata": {},
   "source": [
    "### Some experiments - checking it is all working "
   ]
  },
  {
   "cell_type": "code",
   "execution_count": 33,
   "metadata": {},
   "outputs": [
    {
     "name": "stdout",
     "output_type": "stream",
     "text": [
      "CPU times: user 560 ms, sys: 0 ns, total: 560 ms\n",
      "Wall time: 288 ms\n"
     ]
    },
    {
     "data": {
      "text/plain": [
       "[['reliable',\n",
       "  'dependable',\n",
       "  'trustworthy',\n",
       "  'cost-effective',\n",
       "  'efficient',\n",
       "  'economical',\n",
       "  'Reliable',\n",
       "  'accurate',\n",
       "  'reliability',\n",
       "  'trusted'],\n",
       " ['relieable',\n",
       "  'relyable',\n",
       "  'realible',\n",
       "  'relable',\n",
       "  'reliabe',\n",
       "  'realiable',\n",
       "  'relaiable',\n",
       "  'relaible',\n",
       "  'trustworth',\n",
       "  'trustfull']]"
      ]
     },
     "execution_count": 33,
     "metadata": {},
     "output_type": "execute_result"
    }
   ],
   "source": [
    "%time toWords(getNeighbours(['reliable', 'relieable']), n=10)"
   ]
  },
  {
   "cell_type": "code",
   "execution_count": 34,
   "metadata": {},
   "outputs": [
    {
     "data": {
      "text/plain": [
       "[['queen', 'king', 'prince', 'princess', 'kings'],\n",
       " ['queen', 'king', 'princess', 'prince', 'kings'],\n",
       " ['king', 'prince', 'queen', 'kings', 'princess']]"
      ]
     },
     "execution_count": 34,
     "metadata": {},
     "output_type": "execute_result"
    }
   ],
   "source": [
    "toWords(getNeighbours(['woman', 'girl', 'boy'], emb[w2id['man']] - emb[w2id['king']], c=1), n=5)"
   ]
  },
  {
   "cell_type": "code",
   "execution_count": 35,
   "metadata": {},
   "outputs": [
    {
     "data": {
      "text/plain": [
       "[['queen', 'king', 'princess', 'queens', 'Queen'],\n",
       " ['princess', 'queen', 'girl', 'king', 'princesses'],\n",
       " ['king', 'prince', 'queen', 'princess', 'boy']]"
      ]
     },
     "execution_count": 35,
     "metadata": {},
     "output_type": "execute_result"
    }
   ],
   "source": [
    "toWords(getNeighbours(['woman', 'girl', 'boy'], emb[w2id['man']] - .7*emb[w2id['king']], c=1), n=5)"
   ]
  },
  {
   "cell_type": "code",
   "execution_count": 36,
   "metadata": {},
   "outputs": [
    {
     "data": {
      "text/plain": [
       "[['foreign', 'foriegn', 'reliable', 'overseas', 'need']]"
      ]
     },
     "execution_count": 36,
     "metadata": {},
     "output_type": "execute_result"
    }
   ],
   "source": [
    "toWords(getNeighbours(['foriegn'], emb[w2id['relieable']] - emb[w2id['reliable']], c=1), n=5)"
   ]
  },
  {
   "cell_type": "code",
   "execution_count": 37,
   "metadata": {},
   "outputs": [
    {
     "data": {
      "text/plain": [
       "[['make', 'can', 'you', 'take', 'give']]"
      ]
     },
     "execution_count": 37,
     "metadata": {},
     "output_type": "execute_result"
    }
   ],
   "source": [
    "toWords(getNeighbours(['made'], emb[w2id['took']] - emb[w2id['take']], c=1.5), n=5)"
   ]
  },
  {
   "cell_type": "code",
   "execution_count": 38,
   "metadata": {},
   "outputs": [
    {
     "data": {
      "text/plain": [
       "[['puppy', 'dog', 'puppies', 'kitten', 'pup']]"
      ]
     },
     "execution_count": 38,
     "metadata": {},
     "output_type": "execute_result"
    }
   ],
   "source": [
    "toWords(getNeighbours(['dog'], emb[w2id['man']] - emb[w2id['boy']], c=1.5), n=5)"
   ]
  },
  {
   "cell_type": "code",
   "execution_count": 39,
   "metadata": {},
   "outputs": [
    {
     "data": {
      "text/plain": [
       "[['amd',\n",
       "  'athlon',\n",
       "  'pentium',\n",
       "  'intel',\n",
       "  'cpu',\n",
       "  'ati',\n",
       "  'asus',\n",
       "  'nvidia',\n",
       "  'geforce',\n",
       "  'celeron']]"
      ]
     },
     "execution_count": 39,
     "metadata": {},
     "output_type": "execute_result"
    }
   ],
   "source": [
    "toWords(getNeighbours(['amd'], 0, c=-1.5), n=10)"
   ]
  },
  {
   "cell_type": "markdown",
   "metadata": {},
   "source": [
    "## Building a spelling correction vector  "
   ]
  },
  {
   "cell_type": "markdown",
   "metadata": {},
   "source": [
    "We can start with a small dataset of common spelling mistakes (courtesy of https://en.oxforddictionaries.com/spelling/common-misspellings). "
   ]
  },
  {
   "cell_type": "code",
   "execution_count": 41,
   "metadata": {},
   "outputs": [
    {
     "data": {
      "text/html": [
       "<div>\n",
       "<style>\n",
       "    .dataframe thead tr:only-child th {\n",
       "        text-align: right;\n",
       "    }\n",
       "\n",
       "    .dataframe thead th {\n",
       "        text-align: left;\n",
       "    }\n",
       "\n",
       "    .dataframe tbody tr th {\n",
       "        vertical-align: top;\n",
       "    }\n",
       "</style>\n",
       "<table border=\"1\" class=\"dataframe\">\n",
       "  <thead>\n",
       "    <tr style=\"text-align: right;\">\n",
       "      <th></th>\n",
       "      <th>correct</th>\n",
       "      <th>incorrect</th>\n",
       "    </tr>\n",
       "  </thead>\n",
       "  <tbody>\n",
       "    <tr>\n",
       "      <th>0</th>\n",
       "      <td>achieve</td>\n",
       "      <td>acheive</td>\n",
       "    </tr>\n",
       "    <tr>\n",
       "      <th>1</th>\n",
       "      <td>across</td>\n",
       "      <td>accross</td>\n",
       "    </tr>\n",
       "    <tr>\n",
       "      <th>2</th>\n",
       "      <td>aggressive</td>\n",
       "      <td>agressive</td>\n",
       "    </tr>\n",
       "    <tr>\n",
       "      <th>3</th>\n",
       "      <td>aggression</td>\n",
       "      <td>agression</td>\n",
       "    </tr>\n",
       "    <tr>\n",
       "      <th>4</th>\n",
       "      <td>apparently</td>\n",
       "      <td>apparantly</td>\n",
       "    </tr>\n",
       "  </tbody>\n",
       "</table>\n",
       "</div>"
      ],
      "text/plain": [
       "      correct   incorrect\n",
       "0  achieve     acheive   \n",
       "1  across      accross   \n",
       "2  aggressive  agressive \n",
       "3  aggression  agression \n",
       "4  apparently  apparantly"
      ]
     },
     "execution_count": 41,
     "metadata": {},
     "output_type": "execute_result"
    }
   ],
   "source": [
    "mistakes = pd.read_csv('common_mistakes.csv')\n",
    "mistakes.head()"
   ]
  },
  {
   "cell_type": "markdown",
   "metadata": {},
   "source": [
    "Let's look at the difference between the correct and incorrect spelling in vector space. I've plotted each dimension as if it were a sequence - they don't represent a sequence, but it makes it much easier to see patterns in the values across the vector dimensions relative to a scatter plot.  "
   ]
  },
  {
   "cell_type": "code",
   "execution_count": 42,
   "metadata": {},
   "outputs": [],
   "source": [
    "# This is just to help me reproduce the same chart. Comment out this line and uncomment the next line if you want to look at a new random selection word pairs \n",
    "samp = mistakes.loc[[76, 31, 90, 14, 9, 6, 36, 91, 84]]\n",
    "# samp = mistakes.sample(9)"
   ]
  },
  {
   "cell_type": "code",
   "execution_count": 43,
   "metadata": {},
   "outputs": [
    {
     "data": {
      "image/png": "[encoded data removed]",
      "text/plain": [
       "<matplotlib.figure.Figure at 0x7f5567a209b0>"
      ]
     },
     "metadata": {},
     "output_type": "display_data"
    }
   ],
   "source": [
    "fig, ax = plt.subplots(3, 3, sharey=True)\n",
    "fig.set_size_inches(28, 10, forward=True)\n",
    "i = 0\n",
    "j = 0\n",
    "for row in samp.itertuples():\n",
    "    ax[i][j].set_title(row.incorrect + '-' + row.correct)\n",
    "    ax[i][j].xaxis.set_visible(False)\n",
    "#     ax[i][j].yaxis.set_visible(False)\n",
    "\n",
    "    vec = emb[w2id[row.incorrect]]-emb[w2id[row.correct]]\n",
    "    ax[i][j].plot(vec)\n",
    "#     ax[i][j].bar(x=list(range(300)), height=vec, color=cmap(np.abs(vec)), width=1)\n",
    "    i += 1\n",
    "    if i == 3:\n",
    "        i = 0\n",
    "        j += 1"
   ]
  },
  {
   "cell_type": "markdown",
   "metadata": {},
   "source": [
    "There is a clear pattern with downward spikes in 2 of the early dimensions, and a slightly less clear upward spike about a third of the way along."
   ]
  },
  {
   "cell_type": "code",
   "execution_count": 44,
   "metadata": {},
   "outputs": [],
   "source": [
    "# Code for saving the image\n",
    "# fig.savefig('9x9examples.png', dpi=200)"
   ]
  },
  {
   "cell_type": "markdown",
   "metadata": {},
   "source": [
    "### Create an initial spelling correction transformation vector "
   ]
  },
  {
   "cell_type": "markdown",
   "metadata": {},
   "source": [
    "Our approach is a simple one: We will just take the average difference between correctly and incorrectly spelled word vectors. \n",
    "We aren't training a model in statistical learning sense, but we should still split our source data into train and test sets since we want to understand whether the transformation vector is generalluy applicable, i.e. invariant to which word it is used on."
   ]
  },
  {
   "cell_type": "code",
   "execution_count": 45,
   "metadata": {},
   "outputs": [
    {
     "name": "stderr",
     "output_type": "stream",
     "text": [
      "/home/ed/anaconda3/envs/tflsrc3/lib/python3.6/site-packages/sklearn/model_selection/_split.py:2026: FutureWarning: From version 0.21, test_size will always complement train_size unless both are specified.\n",
      "  FutureWarning)\n"
     ]
    }
   ],
   "source": [
    "train, test = train_test_split(mistakes, train_size=0.85, random_state=2018)\n",
    "spell_transform = np.zeros((300,))\n",
    "for row in train.itertuples():\n",
    "    spell_transform += emb[w2id[row.incorrect]] - emb[w2id[row.correct]]\n",
    "spell_transform /= len(train)"
   ]
  },
  {
   "cell_type": "markdown",
   "metadata": {},
   "source": [
    "Now we can see what the transformation vector looks like:"
   ]
  },
  {
   "cell_type": "code",
   "execution_count": 46,
   "metadata": {},
   "outputs": [
    {
     "data": {
      "text/plain": [
       "[<matplotlib.lines.Line2D at 0x7f556fc3b2e8>]"
      ]
     },
     "execution_count": 46,
     "metadata": {},
     "output_type": "execute_result"
    },
    {
     "data": {
      "image/png": "[encoded data removed]",
      "text/plain": [
       "<matplotlib.figure.Figure at 0x7f55627afbe0>"
      ]
     },
     "metadata": {},
     "output_type": "display_data"
    }
   ],
   "source": [
    "plt.plot(spell_transform)"
   ]
  },
  {
   "cell_type": "markdown",
   "metadata": {},
   "source": [
    "And we can test how well it performs against the test dataset."
   ]
  },
  {
   "cell_type": "code",
   "execution_count": 47,
   "metadata": {},
   "outputs": [
    {
     "name": "stdout",
     "output_type": "stream",
     "text": [
      "17\n"
     ]
    }
   ],
   "source": [
    "print(len(test))"
   ]
  },
  {
   "cell_type": "code",
   "execution_count": 48,
   "metadata": {},
   "outputs": [
    {
     "name": "stdout",
     "output_type": "stream",
     "text": [
      "9 correct out of 17\n",
      "Accuracy on test set: 52.94%\n"
     ]
    },
    {
     "name": "stderr",
     "output_type": "stream",
     "text": [
      "/home/ed/anaconda3/envs/tflsrc3/lib/python3.6/site-packages/pandas/core/indexing.py:337: SettingWithCopyWarning: \n",
      "A value is trying to be set on a copy of a slice from a DataFrame.\n",
      "Try using .loc[row_indexer,col_indexer] = value instead\n",
      "\n",
      "See the caveats in the documentation: http://pandas.pydata.org/pandas-docs/stable/indexing.html#indexing-view-versus-copy\n",
      "  self.obj[key] = _infer_fill_value(value)\n",
      "/home/ed/anaconda3/envs/tflsrc3/lib/python3.6/site-packages/pandas/core/indexing.py:517: SettingWithCopyWarning: \n",
      "A value is trying to be set on a copy of a slice from a DataFrame.\n",
      "Try using .loc[row_indexer,col_indexer] = value instead\n",
      "\n",
      "See the caveats in the documentation: http://pandas.pydata.org/pandas-docs/stable/indexing.html#indexing-view-versus-copy\n",
      "  self.obj[item] = s\n"
     ]
    }
   ],
   "source": [
    "# See how the transformation performs on the test set\n",
    "test.loc[:, 'fixed'] = toWords(getNeighbours(test.incorrect, transform_vector=spell_transform, c=1), n=1)\n",
    "print('{} correct out of {}'.format((test.fixed==test.correct).sum(), len(test)))\n",
    "print('Accuracy on test set: {:.2f}%'.format((test.fixed==test.correct).sum()/len(test)*100))"
   ]
  },
  {
   "cell_type": "markdown",
   "metadata": {},
   "source": [
    "Not great, but perhaps we just need to push the words further in the direction of the correct spellings? "
   ]
  },
  {
   "cell_type": "code",
   "execution_count": 49,
   "metadata": {},
   "outputs": [
    {
     "name": "stdout",
     "output_type": "stream",
     "text": [
      "15 correct out of 17\n",
      "Accuracy on test set: 88.24%\n"
     ]
    },
    {
     "name": "stderr",
     "output_type": "stream",
     "text": [
      "/home/ed/anaconda3/envs/tflsrc3/lib/python3.6/site-packages/pandas/core/indexing.py:601: SettingWithCopyWarning: \n",
      "A value is trying to be set on a copy of a slice from a DataFrame.\n",
      "Try using .loc[row_indexer,col_indexer] = value instead\n",
      "\n",
      "See the caveats in the documentation: http://pandas.pydata.org/pandas-docs/stable/indexing.html#indexing-view-versus-copy\n",
      "  self.obj[item_labels[indexer[info_axis]]] = value\n"
     ]
    }
   ],
   "source": [
    "# See how the transformation performs on the test set\n",
    "test.loc[:, 'fixed'] = toWords(getNeighbours(test.incorrect, transform_vector=spell_transform, c=1.5), n=1)\n",
    "print('{} correct out of {}'.format((test.fixed==test.correct).sum(), len(test)))\n",
    "print('Accuracy on test set: {:.2f}%'.format((test.fixed==test.correct).sum()/len(test)*100))"
   ]
  },
  {
   "cell_type": "markdown",
   "metadata": {},
   "source": [
    "Much better! Let's look at the ones we got wrong:"
   ]
  },
  {
   "cell_type": "code",
   "execution_count": 50,
   "metadata": {},
   "outputs": [
    {
     "data": {
      "text/html": [
       "<div>\n",
       "<style>\n",
       "    .dataframe thead tr:only-child th {\n",
       "        text-align: right;\n",
       "    }\n",
       "\n",
       "    .dataframe thead th {\n",
       "        text-align: left;\n",
       "    }\n",
       "\n",
       "    .dataframe tbody tr th {\n",
       "        vertical-align: top;\n",
       "    }\n",
       "</style>\n",
       "<table border=\"1\" class=\"dataframe\">\n",
       "  <thead>\n",
       "    <tr style=\"text-align: right;\">\n",
       "      <th></th>\n",
       "      <th>correct</th>\n",
       "      <th>incorrect</th>\n",
       "      <th>fixed</th>\n",
       "    </tr>\n",
       "  </thead>\n",
       "  <tbody>\n",
       "    <tr>\n",
       "      <th>32</th>\n",
       "      <td>Fahrenheit</td>\n",
       "      <td>Farenheit</td>\n",
       "      <td>Farenheit</td>\n",
       "    </tr>\n",
       "    <tr>\n",
       "      <th>74</th>\n",
       "      <td>pharaoh</td>\n",
       "      <td>pharoah</td>\n",
       "      <td>pharoah</td>\n",
       "    </tr>\n",
       "  </tbody>\n",
       "</table>\n",
       "</div>"
      ],
      "text/plain": [
       "       correct  incorrect      fixed\n",
       "32  Fahrenheit  Farenheit  Farenheit\n",
       "74  pharaoh     pharoah    pharoah  "
      ]
     },
     "execution_count": 50,
     "metadata": {},
     "output_type": "execute_result"
    }
   ],
   "source": [
    "test[test.fixed!=test.correct]"
   ]
  },
  {
   "cell_type": "markdown",
   "metadata": {},
   "source": [
    "I don't think I would stand much chance of spelling either of those correctly. Perhaps they are spelled wrong so often that they don't follow the same pattern as other spelling mistakes and typos? The plot below lends some support to that idea:"
   ]
  },
  {
   "cell_type": "code",
   "execution_count": 51,
   "metadata": {},
   "outputs": [
    {
     "data": {
      "text/plain": [
       "[<matplotlib.lines.Line2D at 0x7f556fbca8d0>]"
      ]
     },
     "execution_count": 51,
     "metadata": {},
     "output_type": "execute_result"
    },
    {
     "data": {
      "image/png": "[encoded data removed]",
      "text/plain": [
       "<matplotlib.figure.Figure at 0x7f556fb48748>"
      ]
     },
     "metadata": {},
     "output_type": "display_data"
    }
   ],
   "source": [
    "# plt.plot(emb[w2id['Farenheit']]-emb[w2id['Fahrenheit']])\n",
    "plt.plot(emb[w2id['pharoah']]-emb[w2id['pharaoh']])\n",
    "plt.plot(spell_transform)"
   ]
  },
  {
   "cell_type": "markdown",
   "metadata": {},
   "source": [
    "## Build a bigger training set "
   ]
  },
  {
   "cell_type": "markdown",
   "metadata": {},
   "source": [
    "Our approach is going to be:\n",
    "1. Use the initial spell_transform vector to convert a list of correctly spelled word into an incorrectly spelled words by applying it in the opposite direction\n",
    "2. Since this process is likely to generate lots of noise such as misspelled related words, plurals of the same word, etc we need a way to identify likely misspelling cadidates. To do this we use the jellyfish library to calculate the Levenshtein distance between a misspelling candidate and the correctly spelled world. We also use a few simple heuristic rules. It doesn't need to be perfect, just good enough to filter out the most unlikely candidates.\n",
    "3. Rebuild the spelling transformation vector using all the new correct: incorrect spelling pairs."
   ]
  },
  {
   "cell_type": "code",
   "execution_count": 52,
   "metadata": {},
   "outputs": [
    {
     "data": {
      "text/html": [
       "<div>\n",
       "<style>\n",
       "    .dataframe thead tr:only-child th {\n",
       "        text-align: right;\n",
       "    }\n",
       "\n",
       "    .dataframe thead th {\n",
       "        text-align: left;\n",
       "    }\n",
       "\n",
       "    .dataframe tbody tr th {\n",
       "        vertical-align: top;\n",
       "    }\n",
       "</style>\n",
       "<table border=\"1\" class=\"dataframe\">\n",
       "  <thead>\n",
       "    <tr style=\"text-align: right;\">\n",
       "      <th></th>\n",
       "      <th>correct</th>\n",
       "      <th>incorrect</th>\n",
       "      <th>lev_score</th>\n",
       "      <th>lev_distance</th>\n",
       "    </tr>\n",
       "  </thead>\n",
       "  <tbody>\n",
       "    <tr>\n",
       "      <th>26</th>\n",
       "      <td>disappear</td>\n",
       "      <td>dissapear</td>\n",
       "      <td>0.222222</td>\n",
       "      <td>2</td>\n",
       "    </tr>\n",
       "    <tr>\n",
       "      <th>75</th>\n",
       "      <td>piece</td>\n",
       "      <td>peice</td>\n",
       "      <td>0.400000</td>\n",
       "      <td>2</td>\n",
       "    </tr>\n",
       "    <tr>\n",
       "      <th>74</th>\n",
       "      <td>pharaoh</td>\n",
       "      <td>pharoah</td>\n",
       "      <td>0.285714</td>\n",
       "      <td>2</td>\n",
       "    </tr>\n",
       "    <tr>\n",
       "      <th>12</th>\n",
       "      <td>bizarre</td>\n",
       "      <td>bizzare</td>\n",
       "      <td>0.285714</td>\n",
       "      <td>2</td>\n",
       "    </tr>\n",
       "    <tr>\n",
       "      <th>0</th>\n",
       "      <td>achieve</td>\n",
       "      <td>acheive</td>\n",
       "      <td>0.285714</td>\n",
       "      <td>2</td>\n",
       "    </tr>\n",
       "  </tbody>\n",
       "</table>\n",
       "</div>"
      ],
      "text/plain": [
       "      correct  incorrect  lev_score  lev_distance\n",
       "26  disappear  dissapear  0.222222   2           \n",
       "75  piece      peice      0.400000   2           \n",
       "74  pharaoh    pharoah    0.285714   2           \n",
       "12  bizarre    bizzare    0.285714   2           \n",
       "0   achieve    acheive    0.285714   2           "
      ]
     },
     "execution_count": 52,
     "metadata": {},
     "output_type": "execute_result"
    }
   ],
   "source": [
    "mistakes['lev_score'] = mistakes.apply(lambda x: jellyfish.levenshtein_distance(x.correct, x.incorrect) / max(len(x.correct), len(x.incorrect)), axis=1)\n",
    "mistakes['lev_distance'] = mistakes.apply(lambda x: jellyfish.levenshtein_distance(x.correct, x.incorrect), axis=1)\n",
    "mistakes.sort_values('lev_distance').tail()"
   ]
  },
  {
   "cell_type": "markdown",
   "metadata": {},
   "source": [
    "We have at most 2 edits in this original list of commonly misspelled words, so we will set an assumption that a spelling mistake or typo cannot have an edit distance of more than 2. We also implement a number of other rules and define a function which takes a pair of words, and will return True if it thinks one is potentially a misspelling of the other.  "
   ]
  },
  {
   "cell_type": "code",
   "execution_count": 53,
   "metadata": {},
   "outputs": [],
   "source": [
    "MAX_EDITS = 2\n",
    "\n",
    "\n",
    "def is_misspelling(w1, w2, max_edits=MAX_EDITS):\n",
    "    # We want to focus on the spelling, and not the case of the letters, so we will lower case both words\n",
    "    w1 = w1.lower()\n",
    "    w2 = w2.lower()\n",
    "    # First check that we don't just have a differently cased version of the same word\n",
    "    if w1 != w2:\n",
    "        # Next check that we aren't just creating a plural of of a singular word, or vica versa\n",
    "        if not ((w1[-1] == 's' and w2[-1] != 's') or (w1[-1] != 's' and w2[-1] == 's')):\n",
    "            # Next check that we haven't just stuck a 2 letter prefix or suffix on the word e.g. 'invent' ==> 'reinvent', 'invented'\n",
    "            if not (w1[:-2] == w2 or w2[:-2] == w1 or w1[2:] == w2 or w2[2:] == w1):\n",
    "                # Next, if the word ends in 'e', check we haven't just added a 'd'\n",
    "                if not ((w1[-1] == 'e' and w2[-1] == 'd') or (w1[-1] == 'd' and w2[-1] == 'e')):\n",
    "                    # Finally, if we passed all these tests, then calculate the Levenshtein distance\n",
    "                    dist = jellyfish.levenshtein_distance(w1, w2)\n",
    "                    return dist <= max_edits"
   ]
  },
  {
   "cell_type": "markdown",
   "metadata": {},
   "source": [
    "### Building a list of correctly spelled words "
   ]
  },
  {
   "cell_type": "markdown",
   "metadata": {},
   "source": [
    "We need to start with a long list of correctly spelled words, and I don't have one of those... We have a very long list of words (from the word vectors), and they are in descending frequency order, so we could just assume that the first 10,000 or so are spelled correctly. \n",
    "\n",
    "However, we can also use our initial spelling transformation vector. If we project each word vector onto the spelling transformation vector, i.e. take the dot product, it should give us an indication of how well the word is spelled.    "
   ]
  },
  {
   "cell_type": "markdown",
   "metadata": {},
   "source": [
    "Let's see if it works:"
   ]
  },
  {
   "cell_type": "code",
   "execution_count": 54,
   "metadata": {},
   "outputs": [
    {
     "name": "stdout",
     "output_type": "stream",
     "text": [
      "The top 20 \"best spelled\" words:\n",
      " as;  which;  whose;  particularly;  that;  significant;  addition;  described;  noted;  previously;  While;  the;  continues;  suggests;  Although;  such;  referred;  particular;  present;  including;  continued;  whether;  following;  often;  both;  --;  The;  however;  followed;  their;  remains;  among;  latter;  may;  However;  considered;  rather;  perhaps;  's;  known;  recent;  follows;  given;  become;  appears;  several;  also;  ultimately;  As;  likely\n",
      "\n",
      "The top 20 \"worst spelled\" words:\n",
      " LFS;  Whats;  cuz;  ps3;  FUCK;  Hobbyist;  Lol;  =D;  Hotel_Review;  ur;  vid;  permalinksaveparent;  wasnt;  Logged;  coz;  ?????;  dat;  THANKS;  hes;  ░;  omg;  points1;  theres;  ;D;  !!!!!!;  ppl;  fuckin;  havent;  ▒;  soo;  Fav;  wouldnt;  shes;  aint;  ive;  teh;  goin;  ║;  luv;  ▄;  commentLoad;  pls;  wtf;  ▀;  !!!!!!!;  lmao;  wat;  !!!!!!!!;  plz;  awsome\n"
     ]
    }
   ],
   "source": [
    "# Take the dot product of the spell_transform vector with the first 100,000 word vectors, and sort by the resulting 'score'\n",
    "scores = np.dot(emb[:20000], spell_transform)\n",
    "sp = np.argsort(scores)\n",
    "print ('The top 20 \"best spelled\" words:\\n', ';  '.join([id2w[x] for x in sp[:50]]))\n",
    "print()\n",
    "print ('The top 20 \"worst spelled\" words:\\n', ';  '.join([id2w[x] for x in sp[-50:]]))"
   ]
  },
  {
   "cell_type": "markdown",
   "metadata": {},
   "source": [
    "Mmmm. Perhaps this isn't just measuring how well a word is spelled?\n",
    "\n",
    "Let's also look at the projection of the spelling transform against the original un-normalised vectors."
   ]
  },
  {
   "cell_type": "code",
   "execution_count": 55,
   "metadata": {},
   "outputs": [
    {
     "name": "stdout",
     "output_type": "stream",
     "text": [
      "The top 20 \"best spelled\" words:\n",
      " U.S.;  officials;  political;  whose;  States;  significant;  among;  percent;  University;  economic;  increasingly;  efforts;  often;  individuals;  government;  former;  York;  such;  their;  organizations;  particularly;  --;  financial;  Department;  institutions;  students;  State;  President;  described;  American;  began;  federal;  social;  identified;  his;  may;  which;  United;  noted;  leadership;  including;  remains;  Washington;  activities;  presence;  associated;  Wednesday;  individual;  critical;  largely\n",
      "The top 20 \"worst spelled\" words:\n",
      " havent;  vid;  ;D;  ═;  ▓;  LinkBack;  !!!!!!;  Fav;  THANKS;  FUCK;  LFS;  omg;  EVINRUDE;  ur;  Airbags;  :{;  hes;  ppl;  ps3;  points3;  Mercruiser;  aint;  dat;  fuckin;  goin;  ive;  MouseWait;  soo;  ░;  shes;  points1;  teh;  !!!!!!!;  wtf;  luv;  pls;  lmao;  ▒;  pmPosts;  !!!!!!!!;  ▄;  wat;  ▀;  ║;  agosorry;  fromServlet;  plz;  awsome;  Hotel_Review;  commentLoad\n"
     ]
    }
   ],
   "source": [
    "emb_nonorm = np.zeros((50000, 300), dtype=np.float32)\n",
    "\n",
    "for cc, word in enumerate(list(glove.keys())[:50000]):\n",
    "    emb_nonorm[cc] = glove[word]\n",
    "\n",
    "scores = np.dot(emb_nonorm[:20000], spell_transform)\n",
    "sp_nonorm = np.argsort(scores)\n",
    "print ('The top 20 \"best spelled\" words:\\n', ';  '.join([id2w[x] for x in sp_nonorm[:50]]))\n",
    "print ('The top 20 \"worst spelled\" words:\\n', ';  '.join([id2w[x] for x in sp_nonorm[-50:]]))"
   ]
  },
  {
   "cell_type": "markdown",
   "metadata": {},
   "source": [
    "We can look at the distribution of these scores, but there's no clear breakpoint between correctly spelled and incorrectly spelled (NB correct spellings are to the left hand side, i.e. they get low scores):"
   ]
  },
  {
   "cell_type": "code",
   "execution_count": 56,
   "metadata": {},
   "outputs": [
    {
     "data": {
      "image/png": "[encoded data removed]",
      "text/plain": [
       "<matplotlib.figure.Figure at 0x7f558c15a588>"
      ]
     },
     "metadata": {},
     "output_type": "display_data"
    }
   ],
   "source": [
    "_ = plt.hist(scores, bins=100)"
   ]
  },
  {
   "cell_type": "markdown",
   "metadata": {},
   "source": [
    "We don't really need all, or even a large proportion of the words. So, let's just pick the top few thousand \"best spelled\" words from our list sorted by score. Let's look at a few around the 10,000 mark in this list:"
   ]
  },
  {
   "cell_type": "code",
   "execution_count": 57,
   "metadata": {
    "scrolled": true
   },
   "outputs": [
    {
     "data": {
      "text/plain": [
       "['poem',\n",
       " 'discounted',\n",
       " 'Monterey',\n",
       " 'Selected',\n",
       " 'cycling',\n",
       " 'USC',\n",
       " 'inspections',\n",
       " 'Savings',\n",
       " 'iii',\n",
       " 'homeland',\n",
       " 'Activity',\n",
       " 'viewpoint',\n",
       " 'Rodgers',\n",
       " '1942',\n",
       " 'airline',\n",
       " 'charities',\n",
       " 'defect',\n",
       " 'Sophie',\n",
       " 'shoe',\n",
       " 'Eva',\n",
       " 'fathers',\n",
       " 'allowance',\n",
       " 'commands',\n",
       " 'Tell',\n",
       " 'Paso',\n",
       " 'utter',\n",
       " 'Woody',\n",
       " '91',\n",
       " 'NATO',\n",
       " 'Ukrainian',\n",
       " 'acid',\n",
       " 'traded',\n",
       " 'Patent',\n",
       " 'Starbucks',\n",
       " '9th',\n",
       " 'irregular',\n",
       " 'co-workers',\n",
       " 'Shell',\n",
       " '60,000',\n",
       " 'Nova',\n",
       " 'Please',\n",
       " 'mounting',\n",
       " 'Churches',\n",
       " 'Put',\n",
       " '136',\n",
       " 'Asset',\n",
       " 'Workshop',\n",
       " 'Roundup',\n",
       " 'Mutual',\n",
       " 'marijuana']"
      ]
     },
     "execution_count": 57,
     "metadata": {},
     "output_type": "execute_result"
    }
   ],
   "source": [
    "[id2w[x] for x in sp[10000:10050]]"
   ]
  },
  {
   "cell_type": "markdown",
   "metadata": {},
   "source": [
    "We've got single letters, hyphenated words, and numbers. Let's restrict attention to lower case words containing at least 3 letters, and only the ascii letters a to z.\n",
    "\n",
    "We can build a training vocab by searching through the vocabulary sorted according to the spelling score, and filtering by these criteria: "
   ]
  },
  {
   "cell_type": "code",
   "execution_count": 58,
   "metadata": {},
   "outputs": [],
   "source": [
    "pattern = re.compile('[\\WA-Z0-9_]')\n",
    "\n",
    "def checkword(wrd, minlen=3):\n",
    "    # returns True if the wrd only contains the letters a-z\n",
    "    return len(wrd) >= minlen and pattern.sub('', wrd) == wrd"
   ]
  },
  {
   "cell_type": "code",
   "execution_count": 59,
   "metadata": {},
   "outputs": [
    {
     "data": {
      "text/plain": [
       "8978"
      ]
     },
     "execution_count": 59,
     "metadata": {},
     "output_type": "execute_result"
    }
   ],
   "source": [
    "training_list = [id2w[x] for x in sp[:15000] if checkword(id2w[x])]\n",
    "len(training_list)"
   ]
  },
  {
   "cell_type": "markdown",
   "metadata": {},
   "source": [
    "Next, we find the 10 nearest neighbours after applying the spelling transformation in the wrong direction. We then filter these candidate badly spelled words by applying the is_misspelled function we defined above."
   ]
  },
  {
   "cell_type": "code",
   "execution_count": 61,
   "metadata": {},
   "outputs": [
    {
     "name": "stdout",
     "output_type": "stream",
     "text": [
      "CPU times: user 9min 6s, sys: 3min 12s, total: 12min 18s\n",
      "Wall time: 3min 16s\n"
     ]
    }
   ],
   "source": [
    "%time I = getNeighbours(training_list, spell_transform, -1.5, neighbours=10)"
   ]
  },
  {
   "cell_type": "code",
   "execution_count": 62,
   "metadata": {},
   "outputs": [
    {
     "name": "stdout",
     "output_type": "stream",
     "text": [
      "Generate 14374 pairs\n"
     ]
    }
   ],
   "source": [
    "# Create pairs\n",
    "pairs = []\n",
    "for ls, wrd in zip(I, training_list):\n",
    "    if wrd in test.correct: # We want to ignore words in our small test set\n",
    "        continue\n",
    "    for misspell in ls:\n",
    "        if checkword(id2w[misspell]) and id2w[misspell] not in training_list and is_misspelling(wrd, id2w[misspell]):\n",
    "            pairs.append((wrd, id2w[misspell]))\n",
    "print('Generate {} pairs'.format(len(pairs)))"
   ]
  },
  {
   "cell_type": "markdown",
   "metadata": {},
   "source": [
    "We can check that the process has worked by looking at a few examples:"
   ]
  },
  {
   "cell_type": "code",
   "execution_count": 64,
   "metadata": {
    "scrolled": true
   },
   "outputs": [
    {
     "data": {
      "text/plain": [
       "[('leadership', 'leadeship'),\n",
       " ('leadership', 'leaderhip'),\n",
       " ('leadership', 'leadship'),\n",
       " ('reported', 'repoted'),\n",
       " ('reported', 'reproted'),\n",
       " ('explains', 'explaines'),\n",
       " ('explains', 'expains'),\n",
       " ('reasons', 'resons'),\n",
       " ('commitment', 'committment'),\n",
       " ('commitment', 'comitment'),\n",
       " ('commitment', 'comittment'),\n",
       " ('commitment', 'commitement'),\n",
       " ('commitment', 'committement'),\n",
       " ('current', 'curent'),\n",
       " ('current', 'currrent'),\n",
       " ('current', 'currect'),\n",
       " ('current', 'curret'),\n",
       " ('current', 'curretn'),\n",
       " ('current', 'cuurent'),\n",
       " ('current', 'currnt'),\n",
       " ('purpose', 'pupose'),\n",
       " ('purpose', 'prupose'),\n",
       " ('purpose', 'perpose'),\n",
       " ('purpose', 'purpouse'),\n",
       " ('purpose', 'pourpose')]"
      ]
     },
     "execution_count": 64,
     "metadata": {},
     "output_type": "execute_result"
    }
   ],
   "source": [
    "pairs[1000:1025]"
   ]
  },
  {
   "cell_type": "markdown",
   "metadata": {},
   "source": [
    "It looks OK, although a little noisy. The majority of the corruptions appear to have created spelling mistakes, but there are a few where we have just picked a different but correctly spelled word. \n",
    "\n",
    "Hopefully averaging across a large sample will iron out the potential biases these examples might introduce."
   ]
  },
  {
   "cell_type": "markdown",
   "metadata": {},
   "source": [
    "We can also check by using the dot product scoreing method:"
   ]
  },
  {
   "cell_type": "code",
   "execution_count": 45,
   "metadata": {},
   "outputs": [],
   "source": [
    "incorrects = [np.dot(emb[w2id[x[1]]], spell_transform) for x in pairs]"
   ]
  },
  {
   "cell_type": "code",
   "execution_count": 46,
   "metadata": {},
   "outputs": [
    {
     "data": {
      "image/png": "[encoded data removed]",
      "text/plain": [
       "<matplotlib.figure.Figure at 0x7f335836ccc0>"
      ]
     },
     "metadata": {},
     "output_type": "display_data"
    }
   ],
   "source": [
    "_ =plt.hist(incorrects, bins=50)"
   ]
  },
  {
   "cell_type": "markdown",
   "metadata": {},
   "source": [
    "Let's look at the examples in that long left hand tail:"
   ]
  },
  {
   "cell_type": "code",
   "execution_count": 47,
   "metadata": {},
   "outputs": [
    {
     "data": {
      "text/plain": [
       "[('their', 'thier'),\n",
       " ('similar', 'similiar'),\n",
       " ('bringing', 'brining'),\n",
       " ('will', 'wil'),\n",
       " ('successful', 'succesful'),\n",
       " ('indicate', 'indicative'),\n",
       " ('his', 'hes'),\n",
       " ('received', 'recieved'),\n",
       " ('demonstrate', 'demonstrable'),\n",
       " ('role', 'rôle'),\n",
       " ('resulting', 'resultant'),\n",
       " ('focuses', 'focusses'),\n",
       " ('focused', 'focussed'),\n",
       " ('separate', 'seperate'),\n",
       " ('emphasis', 'emphases'),\n",
       " ('emphasis', 'emphasizes'),\n",
       " ('commitment', 'committment'),\n",
       " ('financial', 'ﬁnancial'),\n",
       " ('across', 'accross'),\n",
       " ('existence', 'existance'),\n",
       " ('social', 'socio'),\n",
       " ('activities', 'activites'),\n",
       " ('characterized', 'characterised'),\n",
       " ('practices', 'practises'),\n",
       " ('initiated', 'instigated'),\n",
       " ('receive', 'recieve'),\n",
       " ('reflected', 'refracted'),\n",
       " ('conclusion', 'conclusive'),\n",
       " ('prepared', 'prepped'),\n",
       " ('kind', 'kinda'),\n",
       " ('committed', 'commited'),\n",
       " ('independent', 'independant'),\n",
       " ('focusing', 'focussing'),\n",
       " ('employees', 'employes'),\n",
       " ('carrying', 'ferrying'),\n",
       " ('official', 'offical'),\n",
       " ('them', 'thier'),\n",
       " ('sort', 'sorta'),\n",
       " ('utilized', 'utilised'),\n",
       " ('truly', 'truely'),\n",
       " ('latest', 'lastest'),\n",
       " ('aforementioned', 'abovementioned'),\n",
       " ('preparing', 'prepping'),\n",
       " ('capital', 'capitol'),\n",
       " ('enormous', 'ginormous'),\n",
       " ('indicating', 'indicative'),\n",
       " ('practice', 'practise'),\n",
       " ('emphasized', 'emphasised'),\n",
       " ('occurred', 'occured'),\n",
       " ('fewer', 'fewest'),\n",
       " ('crisis', 'crises'),\n",
       " ('discovery', 'discoverer'),\n",
       " ('broader', 'broadest'),\n",
       " ('broader', 'broaden'),\n",
       " ('innovative', 'innovating'),\n",
       " ('planned', 'planed'),\n",
       " ('policies', 'polices'),\n",
       " ('collaboration', 'collaborating'),\n",
       " ('consequence', 'consequent'),\n",
       " ('ensuring', 'assuring'),\n",
       " ('targeted', 'targetted'),\n",
       " ('proposals', 'proposers'),\n",
       " ('lives', 'lifes'),\n",
       " ('full', 'ful'),\n",
       " ('below', 'bellow'),\n",
       " ('companies', 'companys'),\n",
       " ('reflecting', 'refracting'),\n",
       " ('publicly', 'publically'),\n",
       " ('too', 'soo'),\n",
       " ('too', 'sooo'),\n",
       " ('occasion', 'occassion'),\n",
       " ('preceding', 'preceeding'),\n",
       " ('utilizing', 'utilising'),\n",
       " ('comparable', 'comparably'),\n",
       " ('innovation', 'innovating'),\n",
       " ('arguably', 'arguable'),\n",
       " ('overcome', 'overcame'),\n",
       " ('managers', 'mangers'),\n",
       " ('uncertainty', 'uncertainly'),\n",
       " ('utilize', 'utilise'),\n",
       " ('pursuing', 'pursing'),\n",
       " ('definitely', 'definately'),\n",
       " ('exercise', 'excercise'),\n",
       " ('receives', 'recieves'),\n",
       " ('occasions', 'occassions'),\n",
       " ('going', 'gonna'),\n",
       " ('aggressive', 'agressive'),\n",
       " ('emphasize', 'emphasise'),\n",
       " ('transferred', 'transfered'),\n",
       " ('specialized', 'specialised'),\n",
       " ('regulation', 'regulating'),\n",
       " ('appreciation', 'appreciating'),\n",
       " ('occurring', 'occuring'),\n",
       " ('criteria', 'criterion'),\n",
       " ('explicitly', 'implicitly'),\n",
       " ('recognizes', 'recognises'),\n",
       " ('accommodate', 'accomodate'),\n",
       " ('inquiry', 'enquiry'),\n",
       " ('analyzed', 'analysed'),\n",
       " ('affecting', 'effecting'),\n",
       " ('favorable', 'favourable'),\n",
       " ('illustrate', 'illustrative'),\n",
       " ('infrastructure', 'infrastructural'),\n",
       " ('possess', 'posses'),\n",
       " ('occasional', 'occassional'),\n",
       " ('authorized', 'authorised'),\n",
       " ('judicial', 'judiciary'),\n",
       " ('undergoing', 'undergone'),\n",
       " ('longtime', 'onetime'),\n",
       " ('demonstration', 'demonstrator'),\n",
       " ('rare', 'rarer'),\n",
       " ('recognizing', 'recognising'),\n",
       " ('climate', 'climatic'),\n",
       " ('body', 'bod'),\n",
       " ('occurrence', 'occurence'),\n",
       " ('want', 'dont'),\n",
       " ('want', 'wanna'),\n",
       " ('want', 'cant'),\n",
       " ('dependent', 'dependant'),\n",
       " ('hours', 'hrs'),\n",
       " ('losing', 'loosing'),\n",
       " ('fulfill', 'fulfil'),\n",
       " ('targeting', 'targetting'),\n",
       " ('regime', 'régime'),\n",
       " ('persistent', 'persisting'),\n",
       " ('practitioners', 'practioners'),\n",
       " ('adaptation', 'adaption'),\n",
       " ('winning', 'wining'),\n",
       " ('tale', 'fable'),\n",
       " ('organizational', 'organisational'),\n",
       " ('honored', 'honoured'),\n",
       " ('supervision', 'supervising'),\n",
       " ('designation', 'designator'),\n",
       " ('artistic', 'artistry'),\n",
       " ('initiate', 'instigate'),\n",
       " ('speculation', 'speculating'),\n",
       " ('centered', 'centred'),\n",
       " ('ensures', 'insures'),\n",
       " ('ensures', 'assures'),\n",
       " ('crowd', 'crowed'),\n",
       " ('reaction', 'reacting'),\n",
       " ('specialist', 'specialised'),\n",
       " ('imminent', 'imminence'),\n",
       " ('reflection', 'refraction'),\n",
       " ('organizing', 'organising'),\n",
       " ('prevention', 'preventive'),\n",
       " ('books', 'ebooks'),\n",
       " ('litigation', 'litigating'),\n",
       " ('litigation', 'litigator'),\n",
       " ('predominantly', 'predominately'),\n",
       " ('spectrum', 'spectra'),\n",
       " ('desirable', 'desireable'),\n",
       " ('sustainable', 'sustainably'),\n",
       " ('looking', 'lookin'),\n",
       " ('labeled', 'labelled'),\n",
       " ('debut', 'début'),\n",
       " ('analyze', 'analyse'),\n",
       " ('subtle', 'subtler'),\n",
       " ('devastating', 'devastation'),\n",
       " ('endeavor', 'endeavour'),\n",
       " ('lot', 'alot'),\n",
       " ('realization', 'realisation'),\n",
       " ('aesthetic', 'esthetic'),\n",
       " ('neighboring', 'neighbouring'),\n",
       " ('curriculum', 'curricula'),\n",
       " ('curriculum', 'curricular'),\n",
       " ('depending', 'dependant'),\n",
       " ('incidents', 'incidences'),\n",
       " ('minister', 'minster'),\n",
       " ('benefited', 'benefitted'),\n",
       " ('aging', 'ageing'),\n",
       " ('vibrant', 'vibrancy'),\n",
       " ('dream', 'dreamt'),\n",
       " ('specialty', 'speciality'),\n",
       " ('realizing', 'realising'),\n",
       " ('incentive', 'incentivize'),\n",
       " ('incentive', 'incentivise'),\n",
       " ('stretch', 'stretchy'),\n",
       " ('mentor', 'mentee'),\n",
       " ('organize', 'organise'),\n",
       " ('explicit', 'implicit'),\n",
       " ('jury', 'juror'),\n",
       " ('text', 'txt'),\n",
       " ('prosecution', 'prosecuting'),\n",
       " ('violations', 'violators'),\n",
       " ('abuse', 'abuser'),\n",
       " ('insurance', 'insurence'),\n",
       " ('finest', 'nicest'),\n",
       " ('fierce', 'fiercer'),\n",
       " ('winter', 'wintery'),\n",
       " ('winter', 'wintry'),\n",
       " ('organizers', 'organisers'),\n",
       " ('removal', 'remover'),\n",
       " ('chair', 'chaise'),\n",
       " ('retired', 'rehired'),\n",
       " ('fees', 'dues'),\n",
       " ('constraints', 'constrains'),\n",
       " ('analyzing', 'analysing'),\n",
       " ('affordable', 'affordably'),\n",
       " ('diagnosis', 'diagnoses'),\n",
       " ('conviction', 'convicting'),\n",
       " ('honors', 'honorees'),\n",
       " ('withdrawn', 'withdrawing'),\n",
       " ('practiced', 'practised'),\n",
       " ('resume', 'resumé'),\n",
       " ('resume', 'résumé'),\n",
       " ('complaint', 'complainant'),\n",
       " ('violation', 'violator'),\n",
       " ('utilization', 'utilisation'),\n",
       " ('minimize', 'minimise'),\n",
       " ('thereof', 'therefor'),\n",
       " ('thereof', 'thereon'),\n",
       " ('thereof', 'thereto'),\n",
       " ('thereof', 'hereof'),\n",
       " ('accumulation', 'accumulating'),\n",
       " ('statutory', 'statutorily'),\n",
       " ('length', 'lenght'),\n",
       " ('isolation', 'isolating'),\n",
       " ('isolation', 'isolator'),\n",
       " ('rehabilitation', 'rehabilitative'),\n",
       " ('thesis', 'theses'),\n",
       " ('protests', 'protestors'),\n",
       " ('profitable', 'profitably'),\n",
       " ('cognitive', 'cognition'),\n",
       " ('artificial', 'artifical'),\n",
       " ('reconstruction', 'reconstructing'),\n",
       " ('embedded', 'imbedded'),\n",
       " ('maximize', 'maximise'),\n",
       " ('motivation', 'motivator'),\n",
       " ('translation', 'translator'),\n",
       " ('theories', 'theorists'),\n",
       " ('behaviors', 'behaviours'),\n",
       " ('termination', 'terminating'),\n",
       " ('utilizes', 'utilises'),\n",
       " ('magical', 'magickal'),\n",
       " ('households', 'householders'),\n",
       " ('tiny', 'teeny'),\n",
       " ('tangible', 'tangibly'),\n",
       " ('calendar', 'calender'),\n",
       " ('behavioral', 'behavioural'),\n",
       " ('novels', 'novellas'),\n",
       " ('neighborhoods', 'neighbourhoods'),\n",
       " ('inquiries', 'inquires'),\n",
       " ('inquiries', 'enquires'),\n",
       " ('inquiries', 'enquiries'),\n",
       " ('elite', 'élite'),\n",
       " ('recurring', 'reoccurring'),\n",
       " ('withdrawal', 'withdrawl'),\n",
       " ('mistaken', 'mistaking'),\n",
       " ('tales', 'fables'),\n",
       " ('sympathetic', 'empathetic'),\n",
       " ('wall', 'sill'),\n",
       " ('disposal', 'dispose'),\n",
       " ('relevance', 'relevancy'),\n",
       " ('train', 'tram'),\n",
       " ('competence', 'competency'),\n",
       " ('wine', 'vino'),\n",
       " ('neighbors', 'neighbours'),\n",
       " ('herein', 'hereof'),\n",
       " ('satisfactory', 'satisfactorily'),\n",
       " ('nomination', 'nominating'),\n",
       " ('licensed', 'licenced'),\n",
       " ('inspection', 'inspecting'),\n",
       " ('allocation', 'allocating'),\n",
       " ('twist', 'twirl'),\n",
       " ('plea', 'plead'),\n",
       " ('plea', 'pled'),\n",
       " ('coastal', 'costal'),\n",
       " ('withdraw', 'withdrawl'),\n",
       " ('migration', 'migrating'),\n",
       " ('migration', 'emigration'),\n",
       " ('border', 'boarder'),\n",
       " ('formula', 'formulae'),\n",
       " ('practicing', 'practising'),\n",
       " ('suicide', 'suicidal'),\n",
       " ('skeptical', 'sceptical'),\n",
       " ('dining', 'dinning'),\n",
       " ('fulfillment', 'fulfilment'),\n",
       " ('fashionable', 'fashionably'),\n",
       " ('proliferation', 'proliferating'),\n",
       " ('advisors', 'advisers'),\n",
       " ('unconscious', 'subconscious'),\n",
       " ('suburban', 'suburbia'),\n",
       " ('premiere', 'première'),\n",
       " ('pursuant', 'pursuance'),\n",
       " ('envelope', 'envelop'),\n",
       " ('strive', 'striven'),\n",
       " ('magic', 'magick'),\n",
       " ('installment', 'instalment'),\n",
       " ('counseling', 'counselling'),\n",
       " ('hypothesis', 'hypotheses'),\n",
       " ('glory', 'glorify'),\n",
       " ('enrollment', 'enrolment'),\n",
       " ('dense', 'denser'),\n",
       " ('synthesis', 'syntheses'),\n",
       " ('marvelous', 'marvellous'),\n",
       " ('specializing', 'specialising'),\n",
       " ('depression', 'depressive'),\n",
       " ('arbitrary', 'arbitrarily'),\n",
       " ('crowded', 'crowed'),\n",
       " ('maternal', 'paternal'),\n",
       " ('insurers', 'insureds'),\n",
       " ('loses', 'looses'),\n",
       " ('pollution', 'polluting'),\n",
       " ('wildlife', 'birdlife'),\n",
       " ('donation', 'donating'),\n",
       " ('manipulation', 'manipulating'),\n",
       " ('kids', 'kiddos'),\n",
       " ('specializes', 'specialises'),\n",
       " ('inflation', 'deflation'),\n",
       " ('signaling', 'signalling'),\n",
       " ('peripheral', 'periphery'),\n",
       " ('therein', 'thereon'),\n",
       " ('therein', 'thereto'),\n",
       " ('heroes', 'heros'),\n",
       " ('evaluations', 'evaluators'),\n",
       " ('unpredictable', 'unpredictably'),\n",
       " ('tourist', 'touristy'),\n",
       " ('lunch', 'brunch'),\n",
       " ('biology', 'zoology'),\n",
       " ('accelerate', 'decelerate'),\n",
       " ('objection', 'objecting'),\n",
       " ('pages', 'pgs'),\n",
       " ('franchise', 'franchisee'),\n",
       " ('molecular', 'molecule'),\n",
       " ('personalized', 'personalised'),\n",
       " ('prosperity', 'prospering'),\n",
       " ('electrical', 'electrician'),\n",
       " ('meditation', 'meditating'),\n",
       " ('meditation', 'meditative'),\n",
       " ('denies', 'decries'),\n",
       " ('knowledgeable', 'knowledgable'),\n",
       " ('customized', 'customised'),\n",
       " ('standardized', 'standardised'),\n",
       " ('comedy', 'comedic'),\n",
       " ('exploitation', 'exploitative'),\n",
       " ('alumni', 'alumnae'),\n",
       " ('diabetes', 'diabetics'),\n",
       " ('maturity', 'maturing'),\n",
       " ('enjoyable', 'enjoyably'),\n",
       " ('frozen', 'froze'),\n",
       " ('neighbor', 'neighbour'),\n",
       " ('immigrant', 'immigrate'),\n",
       " ('royal', 'regal'),\n",
       " ('recycling', 'upcycling'),\n",
       " ('supplemental', 'supplementary'),\n",
       " ('affiliation', 'affiliating'),\n",
       " ('protesters', 'protestors'),\n",
       " ('manufacture', 'manufactory'),\n",
       " ('correction', 'correcting'),\n",
       " ('correction', 'corrector'),\n",
       " ('bone', 'bony'),\n",
       " ('lover', 'lovin'),\n",
       " ('simulation', 'simulator'),\n",
       " ('simulation', 'simulating'),\n",
       " ('accommodations', 'accomodations'),\n",
       " ('comic', 'comix'),\n",
       " ('intricate', 'intricacy'),\n",
       " ('internally', 'externally'),\n",
       " ('grocery', 'grocer'),\n",
       " ('plate', 'platter'),\n",
       " ('correlation', 'correlating'),\n",
       " ('folk', 'folky'),\n",
       " ('admired', 'adored'),\n",
       " ('embarrassing', 'embarassing'),\n",
       " ('dance', 'dancer'),\n",
       " ('modeling', 'modelling'),\n",
       " ('businessman', 'businesswoman'),\n",
       " ('trains', 'trams'),\n",
       " ('realizes', 'realises'),\n",
       " ('grain', 'bran'),\n",
       " ('encyclopedia', 'encyclopaedia'),\n",
       " ('wrap', 'drape'),\n",
       " ('sculpture', 'sculptural'),\n",
       " ('traveler', 'traveller'),\n",
       " ('favors', 'favours'),\n",
       " ('arbitration', 'arbitrator'),\n",
       " ('arbitration', 'arbitrating'),\n",
       " ('artifacts', 'artefacts'),\n",
       " ('contamination', 'contaminating'),\n",
       " ('curb', 'kerb'),\n",
       " ('projection', 'projecting'),\n",
       " ('humorous', 'humourous'),\n",
       " ('clothes', 'cloths'),\n",
       " ('optimization', 'optimisation'),\n",
       " ('unforgettable', 'unforgettably'),\n",
       " ('teenager', 'teenaged'),\n",
       " ('cream', 'creme'),\n",
       " ('enroll', 'enrol'),\n",
       " ('licenses', 'licences'),\n",
       " ('jewelry', 'jewelery'),\n",
       " ('oriented', 'orientated'),\n",
       " ('appraisal', 'appraiser'),\n",
       " ('drink', 'drank'),\n",
       " ('snow', 'snowy'),\n",
       " ('freshman', 'freshmen'),\n",
       " ('imported', 'exported'),\n",
       " ('flavor', 'flavour'),\n",
       " ('fundraiser', 'fundraise'),\n",
       " ('update', 'updater'),\n",
       " ('spirituality', 'spiritualism'),\n",
       " ('holistic', 'wholistic'),\n",
       " ('prescription', 'perscription'),\n",
       " ('norms', 'mores'),\n",
       " ('accidentally', 'accidently'),\n",
       " ('bureau', 'bureaux'),\n",
       " ('unauthorized', 'unauthorised'),\n",
       " ('tougher', 'toughen'),\n",
       " ('tougher', 'rougher'),\n",
       " ('smile', 'smirk'),\n",
       " ('fan', 'fav'),\n",
       " ('harbor', 'harbour'),\n",
       " ('offshore', 'onshore'),\n",
       " ('poets', 'poetess'),\n",
       " ('tenant', 'tenancy'),\n",
       " ('civilization', 'civilisation'),\n",
       " ('terribly', 'horribly'),\n",
       " ('authorization', 'authorisation'),\n",
       " ('organizer', 'organiser'),\n",
       " ('medieval', 'mediaeval'),\n",
       " ('pediatric', 'paediatric'),\n",
       " ('torn', 'tore'),\n",
       " ('extraction', 'extracting'),\n",
       " ('soldier', 'solider'),\n",
       " ('billions', 'trillions'),\n",
       " ('estimation', 'estimator'),\n",
       " ('estimation', 'estimating'),\n",
       " ('memorial', 'memoriam'),\n",
       " ('hygiene', 'hygienic'),\n",
       " ('plates', 'platters'),\n",
       " ('exemption', 'exempting'),\n",
       " ('rumors', 'rumours'),\n",
       " ('inspections', 'inspectors'),\n",
       " ('iii', 'vii'),\n",
       " ('iii', 'viii'),\n",
       " ('iii', 'xiii'),\n",
       " ('iii', 'xii'),\n",
       " ('iii', 'xvii'),\n",
       " ('marijuana', 'marihuana'),\n",
       " ('remodeling', 'remodelling'),\n",
       " ('timber', 'lumber'),\n",
       " ('bankers', 'banksters'),\n",
       " ('fiber', 'fibre'),\n",
       " ('posture', 'postural'),\n",
       " ('crunch', 'crunchy'),\n",
       " ('confession', 'confessing'),\n",
       " ('feminist', 'feminism'),\n",
       " ('distraction', 'distracting'),\n",
       " ('accommodation', 'accomodation'),\n",
       " ('senator', 'senate'),\n",
       " ('categorized', 'categorised'),\n",
       " ('withstand', 'withstood'),\n",
       " ('hotel', 'motel'),\n",
       " ('hotel', 'hostel'),\n",
       " ('loving', 'lovin'),\n",
       " ('posing', 'toying'),\n",
       " ('beer', 'brew'),\n",
       " ('sand', 'sandy'),\n",
       " ('wholesale', 'wholesaler'),\n",
       " ('fusion', 'fusing'),\n",
       " ('weaker', 'weakest'),\n",
       " ('mold', 'mould'),\n",
       " ('relocation', 'relocating'),\n",
       " ('cancellation', 'cancelation'),\n",
       " ('stimulation', 'stimulator'),\n",
       " ('tumor', 'tumour'),\n",
       " ('pale', 'paler'),\n",
       " ('flavors', 'flavours'),\n",
       " ('labeling', 'labelling'),\n",
       " ('buses', 'busses'),\n",
       " ('hotels', 'motels'),\n",
       " ('hotels', 'hostels'),\n",
       " ('spill', 'spilt'),\n",
       " ('pornography', 'pornographic'),\n",
       " ('waiver', 'waive'),\n",
       " ('recycled', 'upcycled'),\n",
       " ('burned', 'burnt'),\n",
       " ('counselor', 'counsellor'),\n",
       " ('genes', 'genomes'),\n",
       " ('tackles', 'tacklers'),\n",
       " ('cozy', 'cosy'),\n",
       " ('cozy', 'comfy'),\n",
       " ('freelance', 'freelancer'),\n",
       " ('dreamed', 'dreamt'),\n",
       " ('tons', 'tonnes'),\n",
       " ('apartments', 'appartments'),\n",
       " ('crisp', 'crispy'),\n",
       " ('emails', 'mails'),\n",
       " ('resonance', 'resonant'),\n",
       " ('cow', 'moo'),\n",
       " ('prostate', 'prostatic'),\n",
       " ('internship', 'externship'),\n",
       " ('riders', 'bikers'),\n",
       " ('riders', 'racers'),\n",
       " ('barbecue', 'barbeque'),\n",
       " ('activation', 'activator'),\n",
       " ('cheap', 'cheep'),\n",
       " ('priced', 'pricy'),\n",
       " ('upwards', 'outwards'),\n",
       " ('mature', 'amature'),\n",
       " ('automation', 'automating'),\n",
       " ('negligence', 'negligent'),\n",
       " ('metabolic', 'catabolic'),\n",
       " ('theaters', 'theatres'),\n",
       " ('von', 'vom'),\n",
       " ('puzzle', 'puzzler'),\n",
       " ('specialize', 'specialise'),\n",
       " ('bacteria', 'bacterium'),\n",
       " ('van', 'een'),\n",
       " ('sneak', 'snuck'),\n",
       " ('dose', 'dosage'),\n",
       " ('supermarket', 'hypermarket'),\n",
       " ('revenge', 'avenge'),\n",
       " ('postal', 'postage'),\n",
       " ('poker', 'pocker'),\n",
       " ('optimize', 'optimise'),\n",
       " ('cup', 'tsp'),\n",
       " ('doses', 'dosages'),\n",
       " ('interiors', 'exteriors'),\n",
       " ('mile', 'miler'),\n",
       " ('bacterial', 'bacterium'),\n",
       " ('sworn', 'swore'),\n",
       " ('cooling', 'coolant'),\n",
       " ('meter', 'metre'),\n",
       " ('sequel', 'prequel'),\n",
       " ('inquire', 'enquire'),\n",
       " ('thermal', 'thermo'),\n",
       " ('super', 'uber'),\n",
       " ('injection', 'injector'),\n",
       " ('smiling', 'smirking'),\n",
       " ('referendum', 'referenda'),\n",
       " ('volunteering', 'volunteerism'),\n",
       " ('irrigation', 'irrigating'),\n",
       " ('videos', 'vids'),\n",
       " ('crafts', 'crafters'),\n",
       " ('hypertension', 'hypertensive'),\n",
       " ('gases', 'gasses'),\n",
       " ('gases', 'gaseous'),\n",
       " ('translations', 'translators'),\n",
       " ('aluminum', 'aluminium'),\n",
       " ('gossip', 'gossipy'),\n",
       " ('wives', 'wifes'),\n",
       " ('airplane', 'aeroplane'),\n",
       " ('validation', 'validator'),\n",
       " ('validation', 'validating'),\n",
       " ('subscriber', 'subscribed'),\n",
       " ('pig', 'hog'),\n",
       " ('bathroom', 'washroom'),\n",
       " ('attach', 'detach'),\n",
       " ('chips', 'crisps'),\n",
       " ('glamour', 'glamor'),\n",
       " ('tumors', 'tumours'),\n",
       " ('freeze', 'froze'),\n",
       " ('lightning', 'lightening'),\n",
       " ('cook', 'wok'),\n",
       " ('beans', 'peas'),\n",
       " ('toughest', 'roughest'),\n",
       " ('hiking', 'biking'),\n",
       " ('smiles', 'smirks'),\n",
       " ('descendants', 'descendents'),\n",
       " ('amateur', 'amatuer'),\n",
       " ('amateur', 'amature'),\n",
       " ('calf', 'calve'),\n",
       " ('disc', 'disk'),\n",
       " ('herbs', 'herbals'),\n",
       " ('optimized', 'optimised'),\n",
       " ('bell', 'peal'),\n",
       " ('ranch', 'rancho'),\n",
       " ('fibers', 'fibres'),\n",
       " ('swim', 'swam'),\n",
       " ('swim', 'swum'),\n",
       " ('whoever', 'whomever'),\n",
       " ('rider', 'racer'),\n",
       " ('expired', 'expiry'),\n",
       " ('breed', 'bred'),\n",
       " ('slower', 'slowest'),\n",
       " ('animation', 'animator'),\n",
       " ('animation', 'animating'),\n",
       " ('erotic', 'erotica'),\n",
       " ('glow', 'aglow'),\n",
       " ('felony', 'felon'),\n",
       " ('genetics', 'genomics'),\n",
       " ('bike', 'trike'),\n",
       " ('texture', 'textural'),\n",
       " ('horn', 'honk'),\n",
       " ('toes', 'soles'),\n",
       " ('ventilation', 'ventilating'),\n",
       " ('naive', 'naïve'),\n",
       " ('junk', 'junky'),\n",
       " ('sealing', 'sealant'),\n",
       " ('caller', 'callee'),\n",
       " ('pulp', 'pulpy'),\n",
       " ('soap', 'soapy'),\n",
       " ('behold', 'beheld'),\n",
       " ('outs', 'bunts'),\n",
       " ('metabolism', 'catabolism'),\n",
       " ('metabolism', 'metabolize'),\n",
       " ('ethanol', 'methanol'),\n",
       " ('obedience', 'obedient'),\n",
       " ('yards', 'yds'),\n",
       " ('pump', 'sump'),\n",
       " ('fabrication', 'fabricating'),\n",
       " ('fabrication', 'fabricator'),\n",
       " ('acceleration', 'deceleration'),\n",
       " ('jewellery', 'jewelery'),\n",
       " ('rocking', 'rockin'),\n",
       " ('adorable', 'adorably'),\n",
       " ('genocide', 'genocidal'),\n",
       " ('shirt', 'tshirt'),\n",
       " ('shirts', 'tshirts'),\n",
       " ('salad', 'slaw'),\n",
       " ('decor', 'décor'),\n",
       " ('decor', 'deco'),\n",
       " ('mud', 'muck'),\n",
       " ('vampire', 'vampiric'),\n",
       " ('scripture', 'scriptural'),\n",
       " ('rebuild', 'rebuilt'),\n",
       " ('insulation', 'insulating'),\n",
       " ('slices', 'slivers'),\n",
       " ('insertion', 'inserting'),\n",
       " ('compression', 'compressing'),\n",
       " ('pdf', 'ppt'),\n",
       " ('pdf', 'rtf'),\n",
       " ('molded', 'moulded'),\n",
       " ('sung', 'sang'),\n",
       " ('sung', 'sing'),\n",
       " ('smiled', 'smirked'),\n",
       " ('percussion', 'percussive'),\n",
       " ('gauge', 'guage'),\n",
       " ('gauge', 'gage'),\n",
       " ('urine', 'urinate'),\n",
       " ('gum', 'guar'),\n",
       " ('pricey', 'pricy'),\n",
       " ('pricey', 'pricier'),\n",
       " ('addictive', 'addicting'),\n",
       " ('perfume', 'parfum'),\n",
       " ('tire', 'tyre'),\n",
       " ('bean', 'pea'),\n",
       " ('odor', 'odour'),\n",
       " ('rumor', 'rumour')]"
      ]
     },
     "execution_count": 47,
     "metadata": {},
     "output_type": "execute_result"
    }
   ],
   "source": [
    "[pairs[x] for x in np.argwhere(np.asarray(incorrects) < 0.1)[:, 0]]"
   ]
  },
  {
   "cell_type": "markdown",
   "metadata": {},
   "source": [
    "There are a few mispellings, but they mostly look like false examples caused by the data creation process - the 'incorrect' word is just a different word.  Let's remove all of these before creating the new spell transformation vector.  We will be throwing out some of the good ith the bad, but there's plenty left over."
   ]
  },
  {
   "cell_type": "code",
   "execution_count": 48,
   "metadata": {},
   "outputs": [],
   "source": [
    "pairs = [pairs[x] for x in np.argwhere(np.asarray(incorrects) > 0.1)[:, 0]]"
   ]
  },
  {
   "cell_type": "code",
   "execution_count": 49,
   "metadata": {},
   "outputs": [
    {
     "name": "stdout",
     "output_type": "stream",
     "text": [
      "13734\n"
     ]
    }
   ],
   "source": [
    "print(len(pairs))"
   ]
  },
  {
   "cell_type": "code",
   "execution_count": 50,
   "metadata": {},
   "outputs": [],
   "source": [
    "# Create version 2 of our spelling transformation vector\n",
    "spell_transform_2 = np.zeros(300)\n",
    "for p in pairs:\n",
    "    spell_transform_2 += emb[w2id[p[1]]] - emb[w2id[p[0]]]\n",
    "spell_transform_2 /= len(pairs)"
   ]
  },
  {
   "cell_type": "code",
   "execution_count": 51,
   "metadata": {},
   "outputs": [
    {
     "data": {
      "text/plain": [
       "array([[1.        , 0.90623891],\n",
       "       [0.90623891, 1.        ]])"
      ]
     },
     "execution_count": 51,
     "metadata": {},
     "output_type": "execute_result"
    }
   ],
   "source": [
    "np.corrcoef(spell_transform, spell_transform_2)"
   ]
  },
  {
   "cell_type": "code",
   "execution_count": 52,
   "metadata": {},
   "outputs": [
    {
     "data": {
      "text/plain": [
       "0.030550461498714564"
      ]
     },
     "execution_count": 52,
     "metadata": {},
     "output_type": "execute_result"
    }
   ],
   "source": [
    "np.std(spell_transform)"
   ]
  },
  {
   "cell_type": "code",
   "execution_count": 53,
   "metadata": {},
   "outputs": [
    {
     "data": {
      "text/plain": [
       "0.044861174564846666"
      ]
     },
     "execution_count": 53,
     "metadata": {},
     "output_type": "execute_result"
    }
   ],
   "source": [
    "np.std(spell_transform_2)"
   ]
  },
  {
   "cell_type": "markdown",
   "metadata": {},
   "source": [
    "Compared to the old spell transform vector we have larger spikes in the early dimensions, and most of the remainder are a bit closer to zero."
   ]
  },
  {
   "cell_type": "code",
   "execution_count": 54,
   "metadata": {},
   "outputs": [
    {
     "data": {
      "text/plain": [
       "[<matplotlib.lines.Line2D at 0x7f32af185f28>]"
      ]
     },
     "execution_count": 54,
     "metadata": {},
     "output_type": "execute_result"
    },
    {
     "data": {
      "image/png": "[encoded data removed]",
      "text/plain": [
       "<matplotlib.figure.Figure at 0x7f33580f47b8>"
      ]
     },
     "metadata": {},
     "output_type": "display_data"
    }
   ],
   "source": [
    "plt.figure(figsize=(13,8))\n",
    "plt.plot(spell_transform_2)\n",
    "plt.plot(spell_transform)\n",
    "# plt.bar(np.arange(300),spell_transform_2, color='b', alpha=0.8)\n",
    "# plt.bar(np.arange(300),spell_transform, color='r')\n",
    "\n",
    "# plt.barh(np.arange(300)[::-1], spell_transform_2, height=1)\n",
    "# plt.barh(np.arange(300)[::-1], spell_transform, height=0.5)"
   ]
  },
  {
   "cell_type": "code",
   "execution_count": 55,
   "metadata": {},
   "outputs": [],
   "source": [
    "fig.savefig('comparison.png', dpi=200)"
   ]
  },
  {
   "cell_type": "markdown",
   "metadata": {},
   "source": [
    "Now we can see how well it performs on the help out test set:"
   ]
  },
  {
   "cell_type": "code",
   "execution_count": 56,
   "metadata": {},
   "outputs": [
    {
     "name": "stdout",
     "output_type": "stream",
     "text": [
      "Accuracy on test set: 100.00%\n"
     ]
    },
    {
     "name": "stderr",
     "output_type": "stream",
     "text": [
      "/home/ed/anaconda3/envs/tflsrc3/lib/python3.6/site-packages/pandas/core/indexing.py:601: SettingWithCopyWarning: \n",
      "A value is trying to be set on a copy of a slice from a DataFrame.\n",
      "Try using .loc[row_indexer,col_indexer] = value instead\n",
      "\n",
      "See the caveats in the documentation: http://pandas.pydata.org/pandas-docs/stable/indexing.html#indexing-view-versus-copy\n",
      "  self.obj[item_labels[indexer[info_axis]]] = value\n"
     ]
    }
   ],
   "source": [
    "test.loc[:, 'fixed'] = toWords(getNeighbours(test.incorrect, transform_vector=spell_transform_2, c=1.4), n=1)\n",
    "print('Accuracy on test set: {:.2f}%'.format((test.fixed==test.correct).sum()/len(test)*100))"
   ]
  },
  {
   "cell_type": "markdown",
   "metadata": {},
   "source": [
    "We have fixed the last two problematic spellings. Let's see how it does on the full training set. "
   ]
  },
  {
   "cell_type": "code",
   "execution_count": 57,
   "metadata": {},
   "outputs": [],
   "source": [
    "train_pairs = pd.DataFrame(pairs, columns=['correct', 'incorrect'])"
   ]
  },
  {
   "cell_type": "code",
   "execution_count": 58,
   "metadata": {},
   "outputs": [
    {
     "name": "stdout",
     "output_type": "stream",
     "text": [
      "13734\n"
     ]
    }
   ],
   "source": [
    "print(len(train_pairs))"
   ]
  },
  {
   "cell_type": "code",
   "execution_count": 59,
   "metadata": {},
   "outputs": [
    {
     "name": "stdout",
     "output_type": "stream",
     "text": [
      "Accuracy on train set: 89.53%\n"
     ]
    }
   ],
   "source": [
    "# See how the transformation performs on the test set\n",
    "train_pairs.loc[:, 'fixed'] = toWords(getNeighbours(train_pairs.incorrect, transform_vector=spell_transform_2, c=1.4), n=1)\n",
    "print('Accuracy on train set: {:.2f}%'.format((train_pairs.fixed==train_pairs.correct).sum()/len(train_pairs)*100))"
   ]
  },
  {
   "cell_type": "markdown",
   "metadata": {},
   "source": [
    "Pretty good - 89% on 14,000 mispelled words. Let's see what we got wrong:"
   ]
  },
  {
   "cell_type": "code",
   "execution_count": 60,
   "metadata": {},
   "outputs": [
    {
     "data": {
      "text/html": [
       "<div>\n",
       "<style>\n",
       "    .dataframe thead tr:only-child th {\n",
       "        text-align: right;\n",
       "    }\n",
       "\n",
       "    .dataframe thead th {\n",
       "        text-align: left;\n",
       "    }\n",
       "\n",
       "    .dataframe tbody tr th {\n",
       "        vertical-align: top;\n",
       "    }\n",
       "</style>\n",
       "<table border=\"1\" class=\"dataframe\">\n",
       "  <thead>\n",
       "    <tr style=\"text-align: right;\">\n",
       "      <th></th>\n",
       "      <th>correct</th>\n",
       "      <th>incorrect</th>\n",
       "      <th>fixed</th>\n",
       "    </tr>\n",
       "  </thead>\n",
       "  <tbody>\n",
       "    <tr>\n",
       "      <th>11012</th>\n",
       "      <td>excerpt</td>\n",
       "      <td>excert</td>\n",
       "      <td>brief</td>\n",
       "    </tr>\n",
       "    <tr>\n",
       "      <th>13170</th>\n",
       "      <td>ringing</td>\n",
       "      <td>dinging</td>\n",
       "      <td>while</td>\n",
       "    </tr>\n",
       "    <tr>\n",
       "      <th>9679</th>\n",
       "      <td>daughter</td>\n",
       "      <td>duaghter</td>\n",
       "      <td>mother</td>\n",
       "    </tr>\n",
       "    <tr>\n",
       "      <th>6209</th>\n",
       "      <td>heart</td>\n",
       "      <td>hert</td>\n",
       "      <td>that</td>\n",
       "    </tr>\n",
       "    <tr>\n",
       "      <th>10307</th>\n",
       "      <td>loose</td>\n",
       "      <td>losen</td>\n",
       "      <td>loosen</td>\n",
       "    </tr>\n",
       "    <tr>\n",
       "      <th>375</th>\n",
       "      <td>carried</td>\n",
       "      <td>carring</td>\n",
       "      <td>carrying</td>\n",
       "    </tr>\n",
       "    <tr>\n",
       "      <th>192</th>\n",
       "      <td>three</td>\n",
       "      <td>thre</td>\n",
       "      <td>one</td>\n",
       "    </tr>\n",
       "    <tr>\n",
       "      <th>5924</th>\n",
       "      <td>months</td>\n",
       "      <td>monthes</td>\n",
       "      <td>weeks</td>\n",
       "    </tr>\n",
       "    <tr>\n",
       "      <th>702</th>\n",
       "      <td>own</td>\n",
       "      <td>onw</td>\n",
       "      <td>one</td>\n",
       "    </tr>\n",
       "    <tr>\n",
       "      <th>6994</th>\n",
       "      <td>filling</td>\n",
       "      <td>fillin</td>\n",
       "      <td>fill</td>\n",
       "    </tr>\n",
       "    <tr>\n",
       "      <th>13480</th>\n",
       "      <td>diameter</td>\n",
       "      <td>diamiter</td>\n",
       "      <td>larger</td>\n",
       "    </tr>\n",
       "    <tr>\n",
       "      <th>10801</th>\n",
       "      <td>mysteries</td>\n",
       "      <td>mystries</td>\n",
       "      <td>mystery</td>\n",
       "    </tr>\n",
       "    <tr>\n",
       "      <th>1749</th>\n",
       "      <td>official</td>\n",
       "      <td>officialy</td>\n",
       "      <td>officially</td>\n",
       "    </tr>\n",
       "    <tr>\n",
       "      <th>7889</th>\n",
       "      <td>properties</td>\n",
       "      <td>propertys</td>\n",
       "      <td>property</td>\n",
       "    </tr>\n",
       "    <tr>\n",
       "      <th>5917</th>\n",
       "      <td>unfortunate</td>\n",
       "      <td>unfortunatly</td>\n",
       "      <td>unfortunately</td>\n",
       "    </tr>\n",
       "    <tr>\n",
       "      <th>11100</th>\n",
       "      <td>oneself</td>\n",
       "      <td>ourself</td>\n",
       "      <td>ourselves</td>\n",
       "    </tr>\n",
       "    <tr>\n",
       "      <th>2112</th>\n",
       "      <td>deliver</td>\n",
       "      <td>deliverd</td>\n",
       "      <td>delivered</td>\n",
       "    </tr>\n",
       "    <tr>\n",
       "      <th>12930</th>\n",
       "      <td>collar</td>\n",
       "      <td>collor</td>\n",
       "      <td>color</td>\n",
       "    </tr>\n",
       "    <tr>\n",
       "      <th>2313</th>\n",
       "      <td>offer</td>\n",
       "      <td>offere</td>\n",
       "      <td>offered</td>\n",
       "    </tr>\n",
       "    <tr>\n",
       "      <th>12332</th>\n",
       "      <td>novelty</td>\n",
       "      <td>novely</td>\n",
       "      <td>particular</td>\n",
       "    </tr>\n",
       "  </tbody>\n",
       "</table>\n",
       "</div>"
      ],
      "text/plain": [
       "           correct     incorrect          fixed\n",
       "11012  excerpt      excert        brief        \n",
       "13170  ringing      dinging       while        \n",
       "9679   daughter     duaghter      mother       \n",
       "6209   heart        hert          that         \n",
       "10307  loose        losen         loosen       \n",
       "375    carried      carring       carrying     \n",
       "192    three        thre          one          \n",
       "5924   months       monthes       weeks        \n",
       "702    own          onw           one          \n",
       "6994   filling      fillin        fill         \n",
       "13480  diameter     diamiter      larger       \n",
       "10801  mysteries    mystries      mystery      \n",
       "1749   official     officialy     officially   \n",
       "7889   properties   propertys     property     \n",
       "5917   unfortunate  unfortunatly  unfortunately\n",
       "11100  oneself      ourself       ourselves    \n",
       "2112   deliver      deliverd      delivered    \n",
       "12930  collar       collor        color        \n",
       "2313   offer        offere        offered      \n",
       "12332  novelty      novely        particular   "
      ]
     },
     "execution_count": 60,
     "metadata": {},
     "output_type": "execute_result"
    }
   ],
   "source": [
    "train_pairs[train_pairs.fixed!=train_pairs.correct].sample(20)"
   ]
  },
  {
   "cell_type": "markdown",
   "metadata": {},
   "source": [
    "An interesting mix. In quite a few cases it looks like we have just picked a completely different word, but in others I think the model has picked a better suggestion than the training data.\n",
    "Let's look again at the training data 'spelling scores'. We can compare the distribution of correctly answered with incorrectly answered:"
   ]
  },
  {
   "cell_type": "code",
   "execution_count": 61,
   "metadata": {},
   "outputs": [
    {
     "data": {
      "text/plain": [
       "<matplotlib.axes._subplots.AxesSubplot at 0x7f33583b99e8>"
      ]
     },
     "execution_count": 61,
     "metadata": {},
     "output_type": "execute_result"
    },
    {
     "data": {
      "image/png": "[encoded data removed]",
      "text/plain": [
       "<matplotlib.figure.Figure at 0x7f33583b9ef0>"
      ]
     },
     "metadata": {},
     "output_type": "display_data"
    }
   ],
   "source": [
    "train_pairs['score'] = train_pairs.incorrect.apply(lambda x: np.dot(emb[w2id[x]], spell_transform_2))\n",
    "train_pairs[train_pairs.fixed==train_pairs.correct].score.hist(bins=50, normed=True, alpha=0.5)\n",
    "train_pairs[train_pairs.fixed!=train_pairs.correct].score.hist(bins=50, normed=True, alpha=0.5)"
   ]
  },
  {
   "cell_type": "markdown",
   "metadata": {},
   "source": [
    "The orange distribution represents the incorrect answers. Our predictions appear to be wrong slightly more often for words with a low spell score (i.e. things that are probably spelled correctly). "
   ]
  },
  {
   "cell_type": "markdown",
   "metadata": {},
   "source": [
    "Let's look at the incorrect examples that are more like to be misspellings:"
   ]
  },
  {
   "cell_type": "code",
   "execution_count": 62,
   "metadata": {
    "scrolled": true
   },
   "outputs": [
    {
     "data": {
      "text/html": [
       "<div>\n",
       "<style>\n",
       "    .dataframe thead tr:only-child th {\n",
       "        text-align: right;\n",
       "    }\n",
       "\n",
       "    .dataframe thead th {\n",
       "        text-align: left;\n",
       "    }\n",
       "\n",
       "    .dataframe tbody tr th {\n",
       "        vertical-align: top;\n",
       "    }\n",
       "</style>\n",
       "<table border=\"1\" class=\"dataframe\">\n",
       "  <thead>\n",
       "    <tr style=\"text-align: right;\">\n",
       "      <th></th>\n",
       "      <th>correct</th>\n",
       "      <th>incorrect</th>\n",
       "      <th>fixed</th>\n",
       "      <th>score</th>\n",
       "    </tr>\n",
       "  </thead>\n",
       "  <tbody>\n",
       "    <tr>\n",
       "      <th>3643</th>\n",
       "      <td>ever</td>\n",
       "      <td>ive</td>\n",
       "      <td>'ve</td>\n",
       "      <td>-0.072502</td>\n",
       "    </tr>\n",
       "    <tr>\n",
       "      <th>5686</th>\n",
       "      <td>gone</td>\n",
       "      <td>goin</td>\n",
       "      <td>going</td>\n",
       "      <td>-0.005711</td>\n",
       "    </tr>\n",
       "    <tr>\n",
       "      <th>13507</th>\n",
       "      <td>mad</td>\n",
       "      <td>lmao</td>\n",
       "      <td>lol</td>\n",
       "      <td>0.009729</td>\n",
       "    </tr>\n",
       "    <tr>\n",
       "      <th>4842</th>\n",
       "      <td>saying</td>\n",
       "      <td>sayin</td>\n",
       "      <td>say</td>\n",
       "      <td>0.030316</td>\n",
       "    </tr>\n",
       "    <tr>\n",
       "      <th>13001</th>\n",
       "      <td>thank</td>\n",
       "      <td>thanx</td>\n",
       "      <td>thanks</td>\n",
       "      <td>0.038150</td>\n",
       "    </tr>\n",
       "    <tr>\n",
       "      <th>5662</th>\n",
       "      <td>real</td>\n",
       "      <td>realy</td>\n",
       "      <td>really</td>\n",
       "      <td>0.038910</td>\n",
       "    </tr>\n",
       "    <tr>\n",
       "      <th>3651</th>\n",
       "      <td>belief</td>\n",
       "      <td>belive</td>\n",
       "      <td>believe</td>\n",
       "      <td>0.049055</td>\n",
       "    </tr>\n",
       "    <tr>\n",
       "      <th>11375</th>\n",
       "      <td>pack</td>\n",
       "      <td>pak</td>\n",
       "      <td>pak</td>\n",
       "      <td>0.057846</td>\n",
       "    </tr>\n",
       "    <tr>\n",
       "      <th>2846</th>\n",
       "      <td>little</td>\n",
       "      <td>alittle</td>\n",
       "      <td>bit</td>\n",
       "      <td>0.063089</td>\n",
       "    </tr>\n",
       "    <tr>\n",
       "      <th>3398</th>\n",
       "      <td>leaves</td>\n",
       "      <td>leafs</td>\n",
       "      <td>leafs</td>\n",
       "      <td>0.070282</td>\n",
       "    </tr>\n",
       "    <tr>\n",
       "      <th>5252</th>\n",
       "      <td>herself</td>\n",
       "      <td>themself</td>\n",
       "      <td>themselves</td>\n",
       "      <td>0.071003</td>\n",
       "    </tr>\n",
       "    <tr>\n",
       "      <th>1525</th>\n",
       "      <td>himself</td>\n",
       "      <td>themself</td>\n",
       "      <td>themselves</td>\n",
       "      <td>0.071003</td>\n",
       "    </tr>\n",
       "    <tr>\n",
       "      <th>8264</th>\n",
       "      <td>played</td>\n",
       "      <td>playin</td>\n",
       "      <td>playing</td>\n",
       "      <td>0.072881</td>\n",
       "    </tr>\n",
       "    <tr>\n",
       "      <th>8355</th>\n",
       "      <td>white</td>\n",
       "      <td>whit</td>\n",
       "      <td>same</td>\n",
       "      <td>0.074172</td>\n",
       "    </tr>\n",
       "    <tr>\n",
       "      <th>886</th>\n",
       "      <td>from</td>\n",
       "      <td>frm</td>\n",
       "      <td>frm</td>\n",
       "      <td>0.075070</td>\n",
       "    </tr>\n",
       "    <tr>\n",
       "      <th>243</th>\n",
       "      <td>despite</td>\n",
       "      <td>inspite</td>\n",
       "      <td>spite</td>\n",
       "      <td>0.078707</td>\n",
       "    </tr>\n",
       "    <tr>\n",
       "      <th>870</th>\n",
       "      <td>placed</td>\n",
       "      <td>layed</td>\n",
       "      <td>laid</td>\n",
       "      <td>0.080313</td>\n",
       "    </tr>\n",
       "    <tr>\n",
       "      <th>5742</th>\n",
       "      <td>living</td>\n",
       "      <td>livin</td>\n",
       "      <td>life</td>\n",
       "      <td>0.080714</td>\n",
       "    </tr>\n",
       "    <tr>\n",
       "      <th>13141</th>\n",
       "      <td>cheaper</td>\n",
       "      <td>cheapo</td>\n",
       "      <td>expensive</td>\n",
       "      <td>0.080946</td>\n",
       "    </tr>\n",
       "    <tr>\n",
       "      <th>3031</th>\n",
       "      <td>nothing</td>\n",
       "      <td>somthing</td>\n",
       "      <td>something</td>\n",
       "      <td>0.081704</td>\n",
       "    </tr>\n",
       "    <tr>\n",
       "      <th>13450</th>\n",
       "      <td>mud</td>\n",
       "      <td>crud</td>\n",
       "      <td>crud</td>\n",
       "      <td>0.082088</td>\n",
       "    </tr>\n",
       "    <tr>\n",
       "      <th>6311</th>\n",
       "      <td>pose</td>\n",
       "      <td>poser</td>\n",
       "      <td>poser</td>\n",
       "      <td>0.083521</td>\n",
       "    </tr>\n",
       "    <tr>\n",
       "      <th>7087</th>\n",
       "      <td>happen</td>\n",
       "      <td>happend</td>\n",
       "      <td>happened</td>\n",
       "      <td>0.085355</td>\n",
       "    </tr>\n",
       "    <tr>\n",
       "      <th>6559</th>\n",
       "      <td>yourself</td>\n",
       "      <td>ourself</td>\n",
       "      <td>ourselves</td>\n",
       "      <td>0.090139</td>\n",
       "    </tr>\n",
       "    <tr>\n",
       "      <th>11100</th>\n",
       "      <td>oneself</td>\n",
       "      <td>ourself</td>\n",
       "      <td>ourselves</td>\n",
       "      <td>0.090139</td>\n",
       "    </tr>\n",
       "    <tr>\n",
       "      <th>10142</th>\n",
       "      <td>upward</td>\n",
       "      <td>foward</td>\n",
       "      <td>forward</td>\n",
       "      <td>0.090351</td>\n",
       "    </tr>\n",
       "    <tr>\n",
       "      <th>13466</th>\n",
       "      <td>don</td>\n",
       "      <td>dnt</td>\n",
       "      <td>dont</td>\n",
       "      <td>0.090389</td>\n",
       "    </tr>\n",
       "    <tr>\n",
       "      <th>10403</th>\n",
       "      <td>checking</td>\n",
       "      <td>checkin</td>\n",
       "      <td>checkin</td>\n",
       "      <td>0.090792</td>\n",
       "    </tr>\n",
       "    <tr>\n",
       "      <th>5911</th>\n",
       "      <td>absolute</td>\n",
       "      <td>absolutly</td>\n",
       "      <td>absolutely</td>\n",
       "      <td>0.090898</td>\n",
       "    </tr>\n",
       "    <tr>\n",
       "      <th>8656</th>\n",
       "      <td>myself</td>\n",
       "      <td>urself</td>\n",
       "      <td>yourself</td>\n",
       "      <td>0.091493</td>\n",
       "    </tr>\n",
       "    <tr>\n",
       "      <th>...</th>\n",
       "      <td>...</td>\n",
       "      <td>...</td>\n",
       "      <td>...</td>\n",
       "      <td>...</td>\n",
       "    </tr>\n",
       "    <tr>\n",
       "      <th>4401</th>\n",
       "      <td>choosing</td>\n",
       "      <td>choosen</td>\n",
       "      <td>chosen</td>\n",
       "      <td>0.126110</td>\n",
       "    </tr>\n",
       "    <tr>\n",
       "      <th>13631</th>\n",
       "      <td>religions</td>\n",
       "      <td>religous</td>\n",
       "      <td>religious</td>\n",
       "      <td>0.126717</td>\n",
       "    </tr>\n",
       "    <tr>\n",
       "      <th>5316</th>\n",
       "      <td>bodies</td>\n",
       "      <td>bodys</td>\n",
       "      <td>body</td>\n",
       "      <td>0.126860</td>\n",
       "    </tr>\n",
       "    <tr>\n",
       "      <th>492</th>\n",
       "      <td>been</td>\n",
       "      <td>beeing</td>\n",
       "      <td>being</td>\n",
       "      <td>0.126934</td>\n",
       "    </tr>\n",
       "    <tr>\n",
       "      <th>149</th>\n",
       "      <td>and</td>\n",
       "      <td>adn</td>\n",
       "      <td>well</td>\n",
       "      <td>0.127093</td>\n",
       "    </tr>\n",
       "    <tr>\n",
       "      <th>12636</th>\n",
       "      <td>sum</td>\n",
       "      <td>yur</td>\n",
       "      <td>your</td>\n",
       "      <td>0.127124</td>\n",
       "    </tr>\n",
       "    <tr>\n",
       "      <th>8933</th>\n",
       "      <td>feasible</td>\n",
       "      <td>feasibly</td>\n",
       "      <td>could</td>\n",
       "      <td>0.129311</td>\n",
       "    </tr>\n",
       "    <tr>\n",
       "      <th>806</th>\n",
       "      <td>have</td>\n",
       "      <td>havnt</td>\n",
       "      <td>already</td>\n",
       "      <td>0.129967</td>\n",
       "    </tr>\n",
       "    <tr>\n",
       "      <th>2002</th>\n",
       "      <td>having</td>\n",
       "      <td>havnt</td>\n",
       "      <td>already</td>\n",
       "      <td>0.129967</td>\n",
       "    </tr>\n",
       "    <tr>\n",
       "      <th>11060</th>\n",
       "      <td>bus</td>\n",
       "      <td>buss</td>\n",
       "      <td>buss</td>\n",
       "      <td>0.130754</td>\n",
       "    </tr>\n",
       "    <tr>\n",
       "      <th>6752</th>\n",
       "      <td>safe</td>\n",
       "      <td>saftey</td>\n",
       "      <td>safety</td>\n",
       "      <td>0.131009</td>\n",
       "    </tr>\n",
       "    <tr>\n",
       "      <th>12426</th>\n",
       "      <td>hang</td>\n",
       "      <td>wana</td>\n",
       "      <td>want</td>\n",
       "      <td>0.131973</td>\n",
       "    </tr>\n",
       "    <tr>\n",
       "      <th>12953</th>\n",
       "      <td>fitted</td>\n",
       "      <td>kitted</td>\n",
       "      <td>fully</td>\n",
       "      <td>0.134104</td>\n",
       "    </tr>\n",
       "    <tr>\n",
       "      <th>6373</th>\n",
       "      <td>front</td>\n",
       "      <td>fron</td>\n",
       "      <td>from</td>\n",
       "      <td>0.137672</td>\n",
       "    </tr>\n",
       "    <tr>\n",
       "      <th>3782</th>\n",
       "      <td>parties</td>\n",
       "      <td>partys</td>\n",
       "      <td>party</td>\n",
       "      <td>0.137897</td>\n",
       "    </tr>\n",
       "    <tr>\n",
       "      <th>12941</th>\n",
       "      <td>duck</td>\n",
       "      <td>ducky</td>\n",
       "      <td>ducky</td>\n",
       "      <td>0.138615</td>\n",
       "    </tr>\n",
       "    <tr>\n",
       "      <th>13406</th>\n",
       "      <td>jewellery</td>\n",
       "      <td>jewlery</td>\n",
       "      <td>jewelry</td>\n",
       "      <td>0.139268</td>\n",
       "    </tr>\n",
       "    <tr>\n",
       "      <th>11710</th>\n",
       "      <td>billions</td>\n",
       "      <td>zillions</td>\n",
       "      <td>hundreds</td>\n",
       "      <td>0.140485</td>\n",
       "    </tr>\n",
       "    <tr>\n",
       "      <th>4992</th>\n",
       "      <td>millions</td>\n",
       "      <td>zillions</td>\n",
       "      <td>hundreds</td>\n",
       "      <td>0.140485</td>\n",
       "    </tr>\n",
       "    <tr>\n",
       "      <th>1988</th>\n",
       "      <td>keeping</td>\n",
       "      <td>keepin</td>\n",
       "      <td>keep</td>\n",
       "      <td>0.143972</td>\n",
       "    </tr>\n",
       "    <tr>\n",
       "      <th>12367</th>\n",
       "      <td>mortgages</td>\n",
       "      <td>morgages</td>\n",
       "      <td>mortgage</td>\n",
       "      <td>0.144454</td>\n",
       "    </tr>\n",
       "    <tr>\n",
       "      <th>11553</th>\n",
       "      <td>ride</td>\n",
       "      <td>ridin</td>\n",
       "      <td>up</td>\n",
       "      <td>0.146274</td>\n",
       "    </tr>\n",
       "    <tr>\n",
       "      <th>11702</th>\n",
       "      <td>riding</td>\n",
       "      <td>ridin</td>\n",
       "      <td>up</td>\n",
       "      <td>0.146274</td>\n",
       "    </tr>\n",
       "    <tr>\n",
       "      <th>7323</th>\n",
       "      <td>newest</td>\n",
       "      <td>newish</td>\n",
       "      <td>new</td>\n",
       "      <td>0.147176</td>\n",
       "    </tr>\n",
       "    <tr>\n",
       "      <th>5687</th>\n",
       "      <td>gone</td>\n",
       "      <td>gona</td>\n",
       "      <td>gonna</td>\n",
       "      <td>0.148297</td>\n",
       "    </tr>\n",
       "    <tr>\n",
       "      <th>13467</th>\n",
       "      <td>don</td>\n",
       "      <td>gona</td>\n",
       "      <td>gonna</td>\n",
       "      <td>0.148297</td>\n",
       "    </tr>\n",
       "    <tr>\n",
       "      <th>4259</th>\n",
       "      <td>going</td>\n",
       "      <td>gona</td>\n",
       "      <td>gonna</td>\n",
       "      <td>0.148297</td>\n",
       "    </tr>\n",
       "    <tr>\n",
       "      <th>13679</th>\n",
       "      <td>darling</td>\n",
       "      <td>darlin</td>\n",
       "      <td>let</td>\n",
       "      <td>0.149609</td>\n",
       "    </tr>\n",
       "    <tr>\n",
       "      <th>13658</th>\n",
       "      <td>stamps</td>\n",
       "      <td>stampers</td>\n",
       "      <td>stampers</td>\n",
       "      <td>0.149740</td>\n",
       "    </tr>\n",
       "    <tr>\n",
       "      <th>13647</th>\n",
       "      <td>niece</td>\n",
       "      <td>neice</td>\n",
       "      <td>sister</td>\n",
       "      <td>0.149823</td>\n",
       "    </tr>\n",
       "  </tbody>\n",
       "</table>\n",
       "<p>91 rows × 4 columns</p>\n",
       "</div>"
      ],
      "text/plain": [
       "         correct  incorrect       fixed     score\n",
       "3643   ever       ive        've        -0.072502\n",
       "5686   gone       goin       going      -0.005711\n",
       "13507  mad        lmao       lol         0.009729\n",
       "4842   saying     sayin      say         0.030316\n",
       "13001  thank      thanx      thanks      0.038150\n",
       "5662   real       realy      really      0.038910\n",
       "3651   belief     belive     believe     0.049055\n",
       "11375  pack       pak        pak         0.057846\n",
       "2846   little     alittle    bit         0.063089\n",
       "3398   leaves     leafs      leafs       0.070282\n",
       "5252   herself    themself   themselves  0.071003\n",
       "1525   himself    themself   themselves  0.071003\n",
       "8264   played     playin     playing     0.072881\n",
       "8355   white      whit       same        0.074172\n",
       "886    from       frm        frm         0.075070\n",
       "243    despite    inspite    spite       0.078707\n",
       "870    placed     layed      laid        0.080313\n",
       "5742   living     livin      life        0.080714\n",
       "13141  cheaper    cheapo     expensive   0.080946\n",
       "3031   nothing    somthing   something   0.081704\n",
       "13450  mud        crud       crud        0.082088\n",
       "6311   pose       poser      poser       0.083521\n",
       "7087   happen     happend    happened    0.085355\n",
       "6559   yourself   ourself    ourselves   0.090139\n",
       "11100  oneself    ourself    ourselves   0.090139\n",
       "10142  upward     foward     forward     0.090351\n",
       "13466  don        dnt        dont        0.090389\n",
       "10403  checking   checkin    checkin     0.090792\n",
       "5911   absolute   absolutly  absolutely  0.090898\n",
       "8656   myself     urself     yourself    0.091493\n",
       "...       ...        ...          ...         ...\n",
       "4401   choosing   choosen    chosen      0.126110\n",
       "13631  religions  religous   religious   0.126717\n",
       "5316   bodies     bodys      body        0.126860\n",
       "492    been       beeing     being       0.126934\n",
       "149    and        adn        well        0.127093\n",
       "12636  sum        yur        your        0.127124\n",
       "8933   feasible   feasibly   could       0.129311\n",
       "806    have       havnt      already     0.129967\n",
       "2002   having     havnt      already     0.129967\n",
       "11060  bus        buss       buss        0.130754\n",
       "6752   safe       saftey     safety      0.131009\n",
       "12426  hang       wana       want        0.131973\n",
       "12953  fitted     kitted     fully       0.134104\n",
       "6373   front      fron       from        0.137672\n",
       "3782   parties    partys     party       0.137897\n",
       "12941  duck       ducky      ducky       0.138615\n",
       "13406  jewellery  jewlery    jewelry     0.139268\n",
       "11710  billions   zillions   hundreds    0.140485\n",
       "4992   millions   zillions   hundreds    0.140485\n",
       "1988   keeping    keepin     keep        0.143972\n",
       "12367  mortgages  morgages   mortgage    0.144454\n",
       "11553  ride       ridin      up          0.146274\n",
       "11702  riding     ridin      up          0.146274\n",
       "7323   newest     newish     new         0.147176\n",
       "5687   gone       gona       gonna       0.148297\n",
       "13467  don        gona       gonna       0.148297\n",
       "4259   going      gona       gonna       0.148297\n",
       "13679  darling    darlin     let         0.149609\n",
       "13658  stamps     stampers   stampers    0.149740\n",
       "13647  niece      neice      sister      0.149823\n",
       "\n",
       "[91 rows x 4 columns]"
      ]
     },
     "execution_count": 62,
     "metadata": {},
     "output_type": "execute_result"
    }
   ],
   "source": [
    "train_pairs[(train_pairs.score < 0.15) & (train_pairs.fixed!=train_pairs.correct)].sort_values('score')"
   ]
  },
  {
   "cell_type": "code",
   "execution_count": 63,
   "metadata": {},
   "outputs": [
    {
     "name": "stdout",
     "output_type": "stream",
     "text": [
      "[['absolutely', 'totally', 'truly', 'really', 'so']]\n",
      "[['realized', 'dreamed', 'been', 'had', 'meant']]\n"
     ]
    }
   ],
   "source": [
    "print(toWords(getNeighbours(['absolutly'], transform_vector=spell_transform_2, c=1.4), n=5))\n",
    "print(toWords(getNeighbours(['dreampt'], transform_vector=spell_transform_2, c=1.4), n=5))"
   ]
  },
  {
   "cell_type": "markdown",
   "metadata": {},
   "source": [
    "There are 2 things we could try to improve the results:\n",
    "1. check that our suggested spelling looks like the original word\n",
    "2. adjusting the multiplier to take account of how badly misspelled we think the word is. i.e. perhaps for 'bigger' mispellings we need to make more of an adjustment to drag the vector into the correctly spelled zone?"
   ]
  },
  {
   "cell_type": "code",
   "execution_count": 64,
   "metadata": {},
   "outputs": [],
   "source": [
    "# Define a function to pick the best option from a list of alternatives\n",
    "def pickBest(candidates_list, word_list):\n",
    "    best = []\n",
    "    for candidates, word in zip(candidates_list, word_list):\n",
    "        found = False\n",
    "        for c in candidates:\n",
    "            if c == word or is_misspelling(c, word):\n",
    "                best.append(c)\n",
    "                found=True\n",
    "                break\n",
    "        if not found:\n",
    "            # no good candidates found, so just add the original word\n",
    "            best.append(word)\n",
    "    return best"
   ]
  },
  {
   "cell_type": "code",
   "execution_count": 65,
   "metadata": {},
   "outputs": [],
   "source": [
    "# Define a multiplier based on each individual word score\n",
    "train_pairs['c'] = train_pairs.score.apply(lambda x: 1.2 + x * 1)"
   ]
  },
  {
   "cell_type": "code",
   "execution_count": 66,
   "metadata": {},
   "outputs": [
    {
     "name": "stdout",
     "output_type": "stream",
     "text": [
      "Accuracy on train set: 91.68%\n"
     ]
    }
   ],
   "source": [
    "train_pairs.loc[:, 'fixed'] = pickBest(toWords(getNeighbours(train_pairs.incorrect, transform_vector=spell_transform_2, c=np.expand_dims(train_pairs['c'].values, 1)), n=5), train_pairs.incorrect)\n",
    "print('Accuracy on train set: {:.2f}%'.format((train_pairs.fixed==train_pairs.correct).sum()/len(train_pairs)*100))"
   ]
  },
  {
   "cell_type": "markdown",
   "metadata": {},
   "source": [
    "Better again. As a final step we can try optimising the multiplier parameters.\n",
    "\n",
    "It takes a while to run each iteration, so we will test against a 10% sample."
   ]
  },
  {
   "cell_type": "code",
   "execution_count": 67,
   "metadata": {},
   "outputs": [],
   "source": [
    "from scipy.optimize import fmin"
   ]
  },
  {
   "cell_type": "code",
   "execution_count": 68,
   "metadata": {},
   "outputs": [],
   "source": [
    "train_sample = train_pairs.sample(frac=0.1, random_state=1234)"
   ]
  },
  {
   "cell_type": "code",
   "execution_count": 69,
   "metadata": {},
   "outputs": [],
   "source": [
    "# Helper function to run test on the sample for given paramters and return the error rate\n",
    "def getErrorRate(params):\n",
    "    train_sample['c'] = train_sample.score.apply(lambda x: params[0]+ x * params[1])\n",
    "    train_sample.loc[:, 'fixed'] = pickBest(toWords(getNeighbours(train_sample.incorrect, transform_vector=spell_transform_2, c=np.expand_dims(train_sample['c'].values, 1)), n=5), train_sample.incorrect)\n",
    "    print('Accuracy using params {} and {}: {:.2f}%'.format(params[0], params[1], (train_sample.fixed==train_sample.correct).sum()/len(train_sample)*100))\n",
    "    return (train_sample.fixed!=train_sample.correct).sum()/len(train_sample)"
   ]
  },
  {
   "cell_type": "code",
   "execution_count": 70,
   "metadata": {
    "scrolled": true
   },
   "outputs": [
    {
     "name": "stdout",
     "output_type": "stream",
     "text": [
      "Accuracy using params 1.2 and 1.0: 90.60%\n",
      "Accuracy using params 1.26 and 1.0: 89.08%\n",
      "Accuracy using params 1.2 and 1.05: 90.24%\n",
      "Accuracy using params 1.14 and 1.0499999999999998: 91.55%\n",
      "Accuracy using params 1.0799999999999996 and 1.0749999999999997: 91.19%\n",
      "Accuracy using params 1.14 and 0.9999999999999998: 91.62%\n",
      "Accuracy using params 1.1099999999999999 and 0.9749999999999996: 91.41%\n",
      "Accuracy using params 1.0799999999999998 and 1.0499999999999998: 91.19%\n",
      "Accuracy using params 1.1099999999999999 and 1.0374999999999999: 91.48%\n",
      "Accuracy using params 1.17 and 1.0125: 91.26%\n",
      "Accuracy using params 1.125 and 1.03125: 91.70%\n",
      "Accuracy using params 1.1249999999999998 and 0.9812500000000002: 91.48%\n",
      "Accuracy using params 1.13625 and 1.0328125: 91.62%\n",
      "Accuracy using params 1.1287499999999997 and 0.9984375000000001: 91.70%\n",
      "Accuracy using params 1.1137499999999998 and 1.0296875000000003: 91.55%\n",
      "Accuracy using params 1.1334374999999999 and 1.007421875: 91.70%\n",
      "Accuracy using params 1.1203124999999998 and 1.0222656250000002: 91.55%\n",
      "Accuracy using params 1.1301562499999998 and 1.0111328125: 91.70%\n",
      "Accuracy using params 1.1268749999999998 and 1.01484375: 91.70%\n",
      "Accuracy using params 1.12921875 and 1.0193359375: 91.70%\n",
      "Accuracy using params 1.1226562500000001 and 1.0267578124999999: 91.70%\n",
      "Accuracy using params 1.1275781249999999 and 1.0211914062499998: 91.70%\n",
      "Accuracy using params 1.1259375 and 1.023046875: 91.70%\n",
      "Accuracy using params 1.1271093749999999 and 1.02529296875: 91.70%\n",
      "Optimization terminated successfully.\n",
      "         Current function value: 0.083030\n",
      "         Iterations: 10\n",
      "         Function evaluations: 24\n"
     ]
    }
   ],
   "source": [
    "params = fmin(getErrorRate, [1.2, 1.0],  xtol=0.01)"
   ]
  },
  {
   "cell_type": "markdown",
   "metadata": {},
   "source": [
    "We can now try the best performing paramters with the full dataset:"
   ]
  },
  {
   "cell_type": "code",
   "execution_count": 71,
   "metadata": {},
   "outputs": [
    {
     "name": "stdout",
     "output_type": "stream",
     "text": [
      "Accuracy on train set: 92.60%\n"
     ]
    }
   ],
   "source": [
    "train_pairs['c'] = train_pairs.score.apply(lambda x: params[0] + x * params[1])\n",
    "train_pairs.loc[:, 'fixed'] = pickBest(toWords(getNeighbours(train_pairs.incorrect, transform_vector=spell_transform_2, c=np.expand_dims(train_pairs['c'].values, 1)), n=5), train_pairs.incorrect)\n",
    "print('Accuracy on train set: {:.2f}%'.format((train_pairs.fixed==train_pairs.correct).sum()/len(train_pairs)*100))"
   ]
  },
  {
   "cell_type": "markdown",
   "metadata": {},
   "source": [
    "Better again. Let's take a final look at what we are still getting wrong:"
   ]
  },
  {
   "cell_type": "code",
   "execution_count": 73,
   "metadata": {},
   "outputs": [
    {
     "data": {
      "text/html": [
       "<div>\n",
       "<style>\n",
       "    .dataframe thead tr:only-child th {\n",
       "        text-align: right;\n",
       "    }\n",
       "\n",
       "    .dataframe thead th {\n",
       "        text-align: left;\n",
       "    }\n",
       "\n",
       "    .dataframe tbody tr th {\n",
       "        vertical-align: top;\n",
       "    }\n",
       "</style>\n",
       "<table border=\"1\" class=\"dataframe\">\n",
       "  <thead>\n",
       "    <tr style=\"text-align: right;\">\n",
       "      <th></th>\n",
       "      <th>correct</th>\n",
       "      <th>incorrect</th>\n",
       "      <th>fixed</th>\n",
       "      <th>score</th>\n",
       "      <th>c</th>\n",
       "    </tr>\n",
       "  </thead>\n",
       "  <tbody>\n",
       "    <tr>\n",
       "      <th>3958</th>\n",
       "      <td>capacity</td>\n",
       "      <td>capabilty</td>\n",
       "      <td>capability</td>\n",
       "      <td>0.411489</td>\n",
       "      <td>1.549348</td>\n",
       "    </tr>\n",
       "    <tr>\n",
       "      <th>10499</th>\n",
       "      <td>allocated</td>\n",
       "      <td>alloted</td>\n",
       "      <td>allotted</td>\n",
       "      <td>0.163383</td>\n",
       "      <td>1.293489</td>\n",
       "    </tr>\n",
       "    <tr>\n",
       "      <th>11393</th>\n",
       "      <td>shake</td>\n",
       "      <td>shakin</td>\n",
       "      <td>shakin</td>\n",
       "      <td>0.167715</td>\n",
       "      <td>1.297956</td>\n",
       "    </tr>\n",
       "    <tr>\n",
       "      <th>12953</th>\n",
       "      <td>fitted</td>\n",
       "      <td>kitted</td>\n",
       "      <td>kitted</td>\n",
       "      <td>0.134104</td>\n",
       "      <td>1.263295</td>\n",
       "    </tr>\n",
       "    <tr>\n",
       "      <th>776</th>\n",
       "      <td>either</td>\n",
       "      <td>niether</td>\n",
       "      <td>neither</td>\n",
       "      <td>0.301731</td>\n",
       "      <td>1.436160</td>\n",
       "    </tr>\n",
       "    <tr>\n",
       "      <th>2025</th>\n",
       "      <td>absent</td>\n",
       "      <td>absense</td>\n",
       "      <td>absence</td>\n",
       "      <td>0.198203</td>\n",
       "      <td>1.329397</td>\n",
       "    </tr>\n",
       "    <tr>\n",
       "      <th>3069</th>\n",
       "      <td>enable</td>\n",
       "      <td>beable</td>\n",
       "      <td>beable</td>\n",
       "      <td>0.269582</td>\n",
       "      <td>1.403007</td>\n",
       "    </tr>\n",
       "    <tr>\n",
       "      <th>3643</th>\n",
       "      <td>ever</td>\n",
       "      <td>ive</td>\n",
       "      <td>ive</td>\n",
       "      <td>-0.072502</td>\n",
       "      <td>1.050233</td>\n",
       "    </tr>\n",
       "    <tr>\n",
       "      <th>5092</th>\n",
       "      <td>attack</td>\n",
       "      <td>attact</td>\n",
       "      <td>attract</td>\n",
       "      <td>0.349642</td>\n",
       "      <td>1.485568</td>\n",
       "    </tr>\n",
       "    <tr>\n",
       "      <th>10325</th>\n",
       "      <td>watch</td>\n",
       "      <td>wath</td>\n",
       "      <td>what</td>\n",
       "      <td>0.335083</td>\n",
       "      <td>1.470554</td>\n",
       "    </tr>\n",
       "    <tr>\n",
       "      <th>11530</th>\n",
       "      <td>climb</td>\n",
       "      <td>climed</td>\n",
       "      <td>climbed</td>\n",
       "      <td>0.387734</td>\n",
       "      <td>1.524851</td>\n",
       "    </tr>\n",
       "    <tr>\n",
       "      <th>12209</th>\n",
       "      <td>lightly</td>\n",
       "      <td>slighly</td>\n",
       "      <td>slightly</td>\n",
       "      <td>0.232099</td>\n",
       "      <td>1.364352</td>\n",
       "    </tr>\n",
       "    <tr>\n",
       "      <th>3168</th>\n",
       "      <td>contain</td>\n",
       "      <td>contaning</td>\n",
       "      <td>containing</td>\n",
       "      <td>0.398305</td>\n",
       "      <td>1.535753</td>\n",
       "    </tr>\n",
       "    <tr>\n",
       "      <th>13606</th>\n",
       "      <td>tier</td>\n",
       "      <td>teir</td>\n",
       "      <td>their</td>\n",
       "      <td>0.261467</td>\n",
       "      <td>1.394638</td>\n",
       "    </tr>\n",
       "    <tr>\n",
       "      <th>12207</th>\n",
       "      <td>lightly</td>\n",
       "      <td>slighty</td>\n",
       "      <td>slightly</td>\n",
       "      <td>0.190644</td>\n",
       "      <td>1.321602</td>\n",
       "    </tr>\n",
       "    <tr>\n",
       "      <th>3398</th>\n",
       "      <td>leaves</td>\n",
       "      <td>leafs</td>\n",
       "      <td>leafs</td>\n",
       "      <td>0.070282</td>\n",
       "      <td>1.197478</td>\n",
       "    </tr>\n",
       "    <tr>\n",
       "      <th>10677</th>\n",
       "      <td>defence</td>\n",
       "      <td>defencive</td>\n",
       "      <td>defensive</td>\n",
       "      <td>0.368930</td>\n",
       "      <td>1.505459</td>\n",
       "    </tr>\n",
       "    <tr>\n",
       "      <th>1441</th>\n",
       "      <td>local</td>\n",
       "      <td>localy</td>\n",
       "      <td>locally</td>\n",
       "      <td>0.324321</td>\n",
       "      <td>1.459456</td>\n",
       "    </tr>\n",
       "    <tr>\n",
       "      <th>1540</th>\n",
       "      <td>usually</td>\n",
       "      <td>usuall</td>\n",
       "      <td>usual</td>\n",
       "      <td>0.341211</td>\n",
       "      <td>1.476874</td>\n",
       "    </tr>\n",
       "    <tr>\n",
       "      <th>10075</th>\n",
       "      <td>leap</td>\n",
       "      <td>lept</td>\n",
       "      <td>leapt</td>\n",
       "      <td>0.285678</td>\n",
       "      <td>1.419606</td>\n",
       "    </tr>\n",
       "  </tbody>\n",
       "</table>\n",
       "</div>"
      ],
      "text/plain": [
       "         correct  incorrect       fixed     score         c\n",
       "3958   capacity   capabilty  capability  0.411489  1.549348\n",
       "10499  allocated  alloted    allotted    0.163383  1.293489\n",
       "11393  shake      shakin     shakin      0.167715  1.297956\n",
       "12953  fitted     kitted     kitted      0.134104  1.263295\n",
       "776    either     niether    neither     0.301731  1.436160\n",
       "2025   absent     absense    absence     0.198203  1.329397\n",
       "3069   enable     beable     beable      0.269582  1.403007\n",
       "3643   ever       ive        ive        -0.072502  1.050233\n",
       "5092   attack     attact     attract     0.349642  1.485568\n",
       "10325  watch      wath       what        0.335083  1.470554\n",
       "11530  climb      climed     climbed     0.387734  1.524851\n",
       "12209  lightly    slighly    slightly    0.232099  1.364352\n",
       "3168   contain    contaning  containing  0.398305  1.535753\n",
       "13606  tier       teir       their       0.261467  1.394638\n",
       "12207  lightly    slighty    slightly    0.190644  1.321602\n",
       "3398   leaves     leafs      leafs       0.070282  1.197478\n",
       "10677  defence    defencive  defensive   0.368930  1.505459\n",
       "1441   local      localy     locally     0.324321  1.459456\n",
       "1540   usually    usuall     usual       0.341211  1.476874\n",
       "10075  leap       lept       leapt       0.285678  1.419606"
      ]
     },
     "execution_count": 73,
     "metadata": {},
     "output_type": "execute_result"
    }
   ],
   "source": [
    "train_pairs[train_pairs.fixed!=train_pairs.correct].sample(20)"
   ]
  },
  {
   "cell_type": "markdown",
   "metadata": {},
   "source": [
    "There are still some cases when we are not finding the right spelling, but most of the examples now seem to be errors in the training set. "
   ]
  },
  {
   "cell_type": "markdown",
   "metadata": {},
   "source": [
    "## Building a spell correcting dictionary "
   ]
  },
  {
   "cell_type": "markdown",
   "metadata": {},
   "source": [
    "There's no point correcting words that are not real words. For example, punctuation, urls, file names, etc. So, we will try to filter the original list before processing. "
   ]
  },
  {
   "cell_type": "code",
   "execution_count": 124,
   "metadata": {},
   "outputs": [],
   "source": [
    "allwords = [x for x in id2w if checkword(x, 3)]"
   ]
  },
  {
   "cell_type": "code",
   "execution_count": 125,
   "metadata": {},
   "outputs": [
    {
     "name": "stdout",
     "output_type": "stream",
     "text": [
      "418757\n"
     ]
    }
   ],
   "source": [
    "print(len(allwords))"
   ]
  },
  {
   "cell_type": "code",
   "execution_count": 126,
   "metadata": {
    "scrolled": true
   },
   "outputs": [
    {
     "data": {
      "text/plain": [
       "['theaflavin',\n",
       " 'theproducts',\n",
       " 'thumbcuffs',\n",
       " 'todmorden',\n",
       " 'topl',\n",
       " 'trainiing',\n",
       " 'trompettes',\n",
       " 'tylerdurden',\n",
       " 'unaturally',\n",
       " 'uniao',\n",
       " 'upstretched',\n",
       " 'vakker',\n",
       " 'vampaneze',\n",
       " 'vinted',\n",
       " 'vocÃª',\n",
       " 'wiid',\n",
       " 'woombie',\n",
       " 'wordsforyoungmen',\n",
       " 'wried',\n",
       " 'wwent',\n",
       " 'xalisae',\n",
       " 'xtremecaffeine',\n",
       " 'yildirim',\n",
       " 'zipout',\n",
       " 'zulchzulu']"
      ]
     },
     "execution_count": 126,
     "metadata": {},
     "output_type": "execute_result"
    }
   ],
   "source": [
    "allwords[-25:]"
   ]
  },
  {
   "cell_type": "code",
   "execution_count": 77,
   "metadata": {},
   "outputs": [],
   "source": [
    "allwords = pd.DataFrame(allwords, columns=['original'])\n",
    "allwords['score'] = allwords.original.apply(lambda x: np.dot(emb[w2id[x]], spell_transform))\n",
    "allwords['c'] = allwords.score.apply(lambda x: params[0]+ x * params[1])"
   ]
  },
  {
   "cell_type": "code",
   "execution_count": 81,
   "metadata": {},
   "outputs": [],
   "source": [
    "# NB this takes a long time. I'm running faiss on CPU and it took about 45 minutes.\n",
    "# Don't bother trying to run it with the scipy cdist function\n",
    "allwords['fixed'] = pickBest(toWords(getNeighbours(allwords.original, transform_vector=spell_transform_2, c=np.expand_dims(allwords['c'].values, 1)), n=5), allwords.original) "
   ]
  },
  {
   "cell_type": "markdown",
   "metadata": {},
   "source": [
    "How many words have we changed?"
   ]
  },
  {
   "cell_type": "code",
   "execution_count": 101,
   "metadata": {},
   "outputs": [
    {
     "name": "stdout",
     "output_type": "stream",
     "text": [
      "37581\n"
     ]
    }
   ],
   "source": [
    "print(sum(allwords.fixed!=allwords.original))"
   ]
  },
  {
   "cell_type": "markdown",
   "metadata": {},
   "source": [
    "Not that many. Let's look at a sample of the corrections:"
   ]
  },
  {
   "cell_type": "code",
   "execution_count": 100,
   "metadata": {
    "scrolled": true
   },
   "outputs": [
    {
     "data": {
      "text/html": [
       "<div>\n",
       "<style>\n",
       "    .dataframe thead tr:only-child th {\n",
       "        text-align: right;\n",
       "    }\n",
       "\n",
       "    .dataframe thead th {\n",
       "        text-align: left;\n",
       "    }\n",
       "\n",
       "    .dataframe tbody tr th {\n",
       "        vertical-align: top;\n",
       "    }\n",
       "</style>\n",
       "<table border=\"1\" class=\"dataframe\">\n",
       "  <thead>\n",
       "    <tr style=\"text-align: right;\">\n",
       "      <th></th>\n",
       "      <th>original</th>\n",
       "      <th>score</th>\n",
       "      <th>c</th>\n",
       "      <th>fixed</th>\n",
       "    </tr>\n",
       "  </thead>\n",
       "  <tbody>\n",
       "    <tr>\n",
       "      <th>260756</th>\n",
       "      <td>lasty</td>\n",
       "      <td>0.232130</td>\n",
       "      <td>1.364384</td>\n",
       "      <td>last</td>\n",
       "    </tr>\n",
       "    <tr>\n",
       "      <th>161306</th>\n",
       "      <td>yto</td>\n",
       "      <td>0.219827</td>\n",
       "      <td>1.351697</td>\n",
       "      <td>to</td>\n",
       "    </tr>\n",
       "    <tr>\n",
       "      <th>88882</th>\n",
       "      <td>ablum</td>\n",
       "      <td>0.238479</td>\n",
       "      <td>1.370932</td>\n",
       "      <td>album</td>\n",
       "    </tr>\n",
       "    <tr>\n",
       "      <th>293618</th>\n",
       "      <td>mster</td>\n",
       "      <td>0.211182</td>\n",
       "      <td>1.342781</td>\n",
       "      <td>master</td>\n",
       "    </tr>\n",
       "    <tr>\n",
       "      <th>351266</th>\n",
       "      <td>libility</td>\n",
       "      <td>0.213370</td>\n",
       "      <td>1.345037</td>\n",
       "      <td>liability</td>\n",
       "    </tr>\n",
       "    <tr>\n",
       "      <th>133519</th>\n",
       "      <td>particpated</td>\n",
       "      <td>0.210965</td>\n",
       "      <td>1.342558</td>\n",
       "      <td>participated</td>\n",
       "    </tr>\n",
       "    <tr>\n",
       "      <th>295432</th>\n",
       "      <td>destroing</td>\n",
       "      <td>0.269723</td>\n",
       "      <td>1.403152</td>\n",
       "      <td>destroying</td>\n",
       "    </tr>\n",
       "    <tr>\n",
       "      <th>364046</th>\n",
       "      <td>dmall</td>\n",
       "      <td>0.174538</td>\n",
       "      <td>1.304992</td>\n",
       "      <td>small</td>\n",
       "    </tr>\n",
       "    <tr>\n",
       "      <th>112064</th>\n",
       "      <td>mosiac</td>\n",
       "      <td>0.186702</td>\n",
       "      <td>1.317536</td>\n",
       "      <td>mosaic</td>\n",
       "    </tr>\n",
       "    <tr>\n",
       "      <th>289029</th>\n",
       "      <td>riginally</td>\n",
       "      <td>0.171273</td>\n",
       "      <td>1.301626</td>\n",
       "      <td>originally</td>\n",
       "    </tr>\n",
       "    <tr>\n",
       "      <th>290203</th>\n",
       "      <td>turnig</td>\n",
       "      <td>0.269270</td>\n",
       "      <td>1.402685</td>\n",
       "      <td>turning</td>\n",
       "    </tr>\n",
       "    <tr>\n",
       "      <th>331931</th>\n",
       "      <td>averyone</td>\n",
       "      <td>0.269512</td>\n",
       "      <td>1.402934</td>\n",
       "      <td>everyone</td>\n",
       "    </tr>\n",
       "    <tr>\n",
       "      <th>249307</th>\n",
       "      <td>bevore</td>\n",
       "      <td>0.282073</td>\n",
       "      <td>1.415887</td>\n",
       "      <td>before</td>\n",
       "    </tr>\n",
       "    <tr>\n",
       "      <th>297512</th>\n",
       "      <td>signifcance</td>\n",
       "      <td>0.221960</td>\n",
       "      <td>1.353896</td>\n",
       "      <td>significance</td>\n",
       "    </tr>\n",
       "    <tr>\n",
       "      <th>152013</th>\n",
       "      <td>instanly</td>\n",
       "      <td>0.203036</td>\n",
       "      <td>1.334380</td>\n",
       "      <td>instantly</td>\n",
       "    </tr>\n",
       "    <tr>\n",
       "      <th>223049</th>\n",
       "      <td>longrunning</td>\n",
       "      <td>0.175249</td>\n",
       "      <td>1.305726</td>\n",
       "      <td>long-running</td>\n",
       "    </tr>\n",
       "    <tr>\n",
       "      <th>399403</th>\n",
       "      <td>seesions</td>\n",
       "      <td>0.235625</td>\n",
       "      <td>1.367988</td>\n",
       "      <td>sessions</td>\n",
       "    </tr>\n",
       "    <tr>\n",
       "      <th>232167</th>\n",
       "      <td>characterisitics</td>\n",
       "      <td>0.221728</td>\n",
       "      <td>1.353657</td>\n",
       "      <td>characteristics</td>\n",
       "    </tr>\n",
       "    <tr>\n",
       "      <th>337124</th>\n",
       "      <td>wwhere</td>\n",
       "      <td>0.245422</td>\n",
       "      <td>1.378092</td>\n",
       "      <td>where</td>\n",
       "    </tr>\n",
       "    <tr>\n",
       "      <th>361152</th>\n",
       "      <td>alvays</td>\n",
       "      <td>0.203539</td>\n",
       "      <td>1.334899</td>\n",
       "      <td>always</td>\n",
       "    </tr>\n",
       "    <tr>\n",
       "      <th>54592</th>\n",
       "      <td>facinating</td>\n",
       "      <td>0.154107</td>\n",
       "      <td>1.283923</td>\n",
       "      <td>fascinating</td>\n",
       "    </tr>\n",
       "    <tr>\n",
       "      <th>99395</th>\n",
       "      <td>simpel</td>\n",
       "      <td>0.224918</td>\n",
       "      <td>1.356946</td>\n",
       "      <td>simple</td>\n",
       "    </tr>\n",
       "    <tr>\n",
       "      <th>384781</th>\n",
       "      <td>againgst</td>\n",
       "      <td>0.257861</td>\n",
       "      <td>1.390919</td>\n",
       "      <td>against</td>\n",
       "    </tr>\n",
       "    <tr>\n",
       "      <th>175518</th>\n",
       "      <td>asphault</td>\n",
       "      <td>0.229239</td>\n",
       "      <td>1.361402</td>\n",
       "      <td>asphalt</td>\n",
       "    </tr>\n",
       "    <tr>\n",
       "      <th>55808</th>\n",
       "      <td>assasination</td>\n",
       "      <td>0.110138</td>\n",
       "      <td>1.238580</td>\n",
       "      <td>assassination</td>\n",
       "    </tr>\n",
       "    <tr>\n",
       "      <th>232841</th>\n",
       "      <td>medecines</td>\n",
       "      <td>0.195713</td>\n",
       "      <td>1.326830</td>\n",
       "      <td>medicines</td>\n",
       "    </tr>\n",
       "    <tr>\n",
       "      <th>110189</th>\n",
       "      <td>recomending</td>\n",
       "      <td>0.250512</td>\n",
       "      <td>1.383340</td>\n",
       "      <td>recommending</td>\n",
       "    </tr>\n",
       "    <tr>\n",
       "      <th>98125</th>\n",
       "      <td>hoola</td>\n",
       "      <td>0.176819</td>\n",
       "      <td>1.307344</td>\n",
       "      <td>hoop</td>\n",
       "    </tr>\n",
       "    <tr>\n",
       "      <th>152838</th>\n",
       "      <td>istance</td>\n",
       "      <td>0.215361</td>\n",
       "      <td>1.347091</td>\n",
       "      <td>instance</td>\n",
       "    </tr>\n",
       "    <tr>\n",
       "      <th>370904</th>\n",
       "      <td>sovjet</td>\n",
       "      <td>0.237282</td>\n",
       "      <td>1.369697</td>\n",
       "      <td>soviet</td>\n",
       "    </tr>\n",
       "    <tr>\n",
       "      <th>157436</th>\n",
       "      <td>eposide</td>\n",
       "      <td>0.211084</td>\n",
       "      <td>1.342680</td>\n",
       "      <td>episode</td>\n",
       "    </tr>\n",
       "    <tr>\n",
       "      <th>178451</th>\n",
       "      <td>caard</td>\n",
       "      <td>0.169829</td>\n",
       "      <td>1.300137</td>\n",
       "      <td>card</td>\n",
       "    </tr>\n",
       "    <tr>\n",
       "      <th>108207</th>\n",
       "      <td>seemes</td>\n",
       "      <td>0.275224</td>\n",
       "      <td>1.408825</td>\n",
       "      <td>seems</td>\n",
       "    </tr>\n",
       "    <tr>\n",
       "      <th>116329</th>\n",
       "      <td>lthe</td>\n",
       "      <td>0.257911</td>\n",
       "      <td>1.390971</td>\n",
       "      <td>the</td>\n",
       "    </tr>\n",
       "    <tr>\n",
       "      <th>250607</th>\n",
       "      <td>indor</td>\n",
       "      <td>0.198853</td>\n",
       "      <td>1.330067</td>\n",
       "      <td>indoor</td>\n",
       "    </tr>\n",
       "    <tr>\n",
       "      <th>414803</th>\n",
       "      <td>vacent</td>\n",
       "      <td>0.221301</td>\n",
       "      <td>1.353217</td>\n",
       "      <td>vacant</td>\n",
       "    </tr>\n",
       "    <tr>\n",
       "      <th>101684</th>\n",
       "      <td>follwoing</td>\n",
       "      <td>0.241912</td>\n",
       "      <td>1.374472</td>\n",
       "      <td>following</td>\n",
       "    </tr>\n",
       "    <tr>\n",
       "      <th>67165</th>\n",
       "      <td>atheletes</td>\n",
       "      <td>0.159616</td>\n",
       "      <td>1.289604</td>\n",
       "      <td>athletes</td>\n",
       "    </tr>\n",
       "    <tr>\n",
       "      <th>301471</th>\n",
       "      <td>weeed</td>\n",
       "      <td>0.231989</td>\n",
       "      <td>1.364238</td>\n",
       "      <td>weed</td>\n",
       "    </tr>\n",
       "    <tr>\n",
       "      <th>72521</th>\n",
       "      <td>interresting</td>\n",
       "      <td>0.244344</td>\n",
       "      <td>1.376979</td>\n",
       "      <td>interesting</td>\n",
       "    </tr>\n",
       "    <tr>\n",
       "      <th>185498</th>\n",
       "      <td>fullfills</td>\n",
       "      <td>0.209948</td>\n",
       "      <td>1.341509</td>\n",
       "      <td>fulfills</td>\n",
       "    </tr>\n",
       "    <tr>\n",
       "      <th>176444</th>\n",
       "      <td>verisons</td>\n",
       "      <td>0.257992</td>\n",
       "      <td>1.391054</td>\n",
       "      <td>versions</td>\n",
       "    </tr>\n",
       "    <tr>\n",
       "      <th>74929</th>\n",
       "      <td>entires</td>\n",
       "      <td>0.168082</td>\n",
       "      <td>1.298335</td>\n",
       "      <td>entries</td>\n",
       "    </tr>\n",
       "    <tr>\n",
       "      <th>281443</th>\n",
       "      <td>somethg</td>\n",
       "      <td>0.212492</td>\n",
       "      <td>1.344132</td>\n",
       "      <td>something</td>\n",
       "    </tr>\n",
       "    <tr>\n",
       "      <th>254755</th>\n",
       "      <td>partipants</td>\n",
       "      <td>0.242293</td>\n",
       "      <td>1.374865</td>\n",
       "      <td>participants</td>\n",
       "    </tr>\n",
       "    <tr>\n",
       "      <th>262729</th>\n",
       "      <td>upÂ</td>\n",
       "      <td>0.191798</td>\n",
       "      <td>1.322792</td>\n",
       "      <td>up</td>\n",
       "    </tr>\n",
       "    <tr>\n",
       "      <th>282556</th>\n",
       "      <td>effectivel</td>\n",
       "      <td>0.197628</td>\n",
       "      <td>1.328804</td>\n",
       "      <td>effectively</td>\n",
       "    </tr>\n",
       "    <tr>\n",
       "      <th>417225</th>\n",
       "      <td>expolsion</td>\n",
       "      <td>0.235294</td>\n",
       "      <td>1.367647</td>\n",
       "      <td>explosion</td>\n",
       "    </tr>\n",
       "    <tr>\n",
       "      <th>226879</th>\n",
       "      <td>certainl</td>\n",
       "      <td>0.213532</td>\n",
       "      <td>1.345204</td>\n",
       "      <td>certainly</td>\n",
       "    </tr>\n",
       "    <tr>\n",
       "      <th>340132</th>\n",
       "      <td>prasie</td>\n",
       "      <td>0.230399</td>\n",
       "      <td>1.362599</td>\n",
       "      <td>praise</td>\n",
       "    </tr>\n",
       "  </tbody>\n",
       "</table>\n",
       "</div>"
      ],
      "text/plain": [
       "                original     score         c            fixed\n",
       "260756  lasty             0.232130  1.364384  last           \n",
       "161306  yto               0.219827  1.351697  to             \n",
       "88882   ablum             0.238479  1.370932  album          \n",
       "293618  mster             0.211182  1.342781  master         \n",
       "351266  libility          0.213370  1.345037  liability      \n",
       "133519  particpated       0.210965  1.342558  participated   \n",
       "295432  destroing         0.269723  1.403152  destroying     \n",
       "364046  dmall             0.174538  1.304992  small          \n",
       "112064  mosiac            0.186702  1.317536  mosaic         \n",
       "289029  riginally         0.171273  1.301626  originally     \n",
       "290203  turnig            0.269270  1.402685  turning        \n",
       "331931  averyone          0.269512  1.402934  everyone       \n",
       "249307  bevore            0.282073  1.415887  before         \n",
       "297512  signifcance       0.221960  1.353896  significance   \n",
       "152013  instanly          0.203036  1.334380  instantly      \n",
       "223049  longrunning       0.175249  1.305726  long-running   \n",
       "399403  seesions          0.235625  1.367988  sessions       \n",
       "232167  characterisitics  0.221728  1.353657  characteristics\n",
       "337124  wwhere            0.245422  1.378092  where          \n",
       "361152  alvays            0.203539  1.334899  always         \n",
       "54592   facinating        0.154107  1.283923  fascinating    \n",
       "99395   simpel            0.224918  1.356946  simple         \n",
       "384781  againgst          0.257861  1.390919  against        \n",
       "175518  asphault          0.229239  1.361402  asphalt        \n",
       "55808   assasination      0.110138  1.238580  assassination  \n",
       "232841  medecines         0.195713  1.326830  medicines      \n",
       "110189  recomending       0.250512  1.383340  recommending   \n",
       "98125   hoola             0.176819  1.307344  hoop           \n",
       "152838  istance           0.215361  1.347091  instance       \n",
       "370904  sovjet            0.237282  1.369697  soviet         \n",
       "157436  eposide           0.211084  1.342680  episode        \n",
       "178451  caard             0.169829  1.300137  card           \n",
       "108207  seemes            0.275224  1.408825  seems          \n",
       "116329  lthe              0.257911  1.390971  the            \n",
       "250607  indor             0.198853  1.330067  indoor         \n",
       "414803  vacent            0.221301  1.353217  vacant         \n",
       "101684  follwoing         0.241912  1.374472  following      \n",
       "67165   atheletes         0.159616  1.289604  athletes       \n",
       "301471  weeed             0.231989  1.364238  weed           \n",
       "72521   interresting      0.244344  1.376979  interesting    \n",
       "185498  fullfills         0.209948  1.341509  fulfills       \n",
       "176444  verisons          0.257992  1.391054  versions       \n",
       "74929   entires           0.168082  1.298335  entries        \n",
       "281443  somethg           0.212492  1.344132  something      \n",
       "254755  partipants        0.242293  1.374865  participants   \n",
       "262729  upÂ               0.191798  1.322792  up             \n",
       "282556  effectivel        0.197628  1.328804  effectively    \n",
       "417225  expolsion         0.235294  1.367647  explosion      \n",
       "226879  certainl          0.213532  1.345204  certainly      \n",
       "340132  prasie            0.230399  1.362599  praise         "
      ]
     },
     "execution_count": 100,
     "metadata": {},
     "output_type": "execute_result"
    }
   ],
   "source": [
    "allwords[allwords.fixed!=allwords.original].sample(50)"
   ]
  },
  {
   "cell_type": "markdown",
   "metadata": {},
   "source": [
    "These look good. What about the some of the ones we didn't correct:"
   ]
  },
  {
   "cell_type": "code",
   "execution_count": 111,
   "metadata": {
    "scrolled": true
   },
   "outputs": [
    {
     "data": {
      "text/html": [
       "<div>\n",
       "<style>\n",
       "    .dataframe thead tr:only-child th {\n",
       "        text-align: right;\n",
       "    }\n",
       "\n",
       "    .dataframe thead th {\n",
       "        text-align: left;\n",
       "    }\n",
       "\n",
       "    .dataframe tbody tr th {\n",
       "        vertical-align: top;\n",
       "    }\n",
       "</style>\n",
       "<table border=\"1\" class=\"dataframe\">\n",
       "  <thead>\n",
       "    <tr style=\"text-align: right;\">\n",
       "      <th></th>\n",
       "      <th>original</th>\n",
       "      <th>score</th>\n",
       "      <th>c</th>\n",
       "      <th>fixed</th>\n",
       "    </tr>\n",
       "  </thead>\n",
       "  <tbody>\n",
       "    <tr>\n",
       "      <th>246391</th>\n",
       "      <td>koktel</td>\n",
       "      <td>0.236641</td>\n",
       "      <td>1.369036</td>\n",
       "      <td>koktel</td>\n",
       "    </tr>\n",
       "    <tr>\n",
       "      <th>227529</th>\n",
       "      <td>villainize</td>\n",
       "      <td>0.221062</td>\n",
       "      <td>1.352970</td>\n",
       "      <td>villainize</td>\n",
       "    </tr>\n",
       "    <tr>\n",
       "      <th>336553</th>\n",
       "      <td>powerstone</td>\n",
       "      <td>0.213821</td>\n",
       "      <td>1.345503</td>\n",
       "      <td>powerstone</td>\n",
       "    </tr>\n",
       "    <tr>\n",
       "      <th>220864</th>\n",
       "      <td>oddscasinos</td>\n",
       "      <td>0.201709</td>\n",
       "      <td>1.333012</td>\n",
       "      <td>oddscasinos</td>\n",
       "    </tr>\n",
       "    <tr>\n",
       "      <th>220789</th>\n",
       "      <td>tennage</td>\n",
       "      <td>0.191337</td>\n",
       "      <td>1.322317</td>\n",
       "      <td>tennage</td>\n",
       "    </tr>\n",
       "    <tr>\n",
       "      <th>388165</th>\n",
       "      <td>abouttheir</td>\n",
       "      <td>0.191151</td>\n",
       "      <td>1.322124</td>\n",
       "      <td>abouttheir</td>\n",
       "    </tr>\n",
       "    <tr>\n",
       "      <th>171695</th>\n",
       "      <td>bikepath</td>\n",
       "      <td>0.188989</td>\n",
       "      <td>1.319895</td>\n",
       "      <td>bikepath</td>\n",
       "    </tr>\n",
       "    <tr>\n",
       "      <th>278541</th>\n",
       "      <td>compresa</td>\n",
       "      <td>0.181337</td>\n",
       "      <td>1.312004</td>\n",
       "      <td>compresa</td>\n",
       "    </tr>\n",
       "    <tr>\n",
       "      <th>360206</th>\n",
       "      <td>royersford</td>\n",
       "      <td>0.178726</td>\n",
       "      <td>1.309311</td>\n",
       "      <td>royersford</td>\n",
       "    </tr>\n",
       "    <tr>\n",
       "      <th>288780</th>\n",
       "      <td>titilate</td>\n",
       "      <td>0.178356</td>\n",
       "      <td>1.308930</td>\n",
       "      <td>titilate</td>\n",
       "    </tr>\n",
       "    <tr>\n",
       "      <th>260876</th>\n",
       "      <td>clubnights</td>\n",
       "      <td>0.175727</td>\n",
       "      <td>1.306218</td>\n",
       "      <td>clubnights</td>\n",
       "    </tr>\n",
       "    <tr>\n",
       "      <th>227590</th>\n",
       "      <td>oilwell</td>\n",
       "      <td>0.175587</td>\n",
       "      <td>1.306074</td>\n",
       "      <td>oilwell</td>\n",
       "    </tr>\n",
       "    <tr>\n",
       "      <th>214281</th>\n",
       "      <td>wikianswers</td>\n",
       "      <td>0.174472</td>\n",
       "      <td>1.304925</td>\n",
       "      <td>wikianswers</td>\n",
       "    </tr>\n",
       "    <tr>\n",
       "      <th>87317</th>\n",
       "      <td>goldens</td>\n",
       "      <td>0.170638</td>\n",
       "      <td>1.300971</td>\n",
       "      <td>goldens</td>\n",
       "    </tr>\n",
       "    <tr>\n",
       "      <th>204813</th>\n",
       "      <td>foole</td>\n",
       "      <td>0.169739</td>\n",
       "      <td>1.300044</td>\n",
       "      <td>foole</td>\n",
       "    </tr>\n",
       "    <tr>\n",
       "      <th>204568</th>\n",
       "      <td>rustig</td>\n",
       "      <td>0.169352</td>\n",
       "      <td>1.299645</td>\n",
       "      <td>rustig</td>\n",
       "    </tr>\n",
       "    <tr>\n",
       "      <th>185276</th>\n",
       "      <td>miras</td>\n",
       "      <td>0.165696</td>\n",
       "      <td>1.295874</td>\n",
       "      <td>miras</td>\n",
       "    </tr>\n",
       "    <tr>\n",
       "      <th>300292</th>\n",
       "      <td>medlock</td>\n",
       "      <td>0.162891</td>\n",
       "      <td>1.292981</td>\n",
       "      <td>medlock</td>\n",
       "    </tr>\n",
       "    <tr>\n",
       "      <th>390161</th>\n",
       "      <td>xvx</td>\n",
       "      <td>0.162465</td>\n",
       "      <td>1.292542</td>\n",
       "      <td>xvx</td>\n",
       "    </tr>\n",
       "    <tr>\n",
       "      <th>213198</th>\n",
       "      <td>machineroulette</td>\n",
       "      <td>0.161221</td>\n",
       "      <td>1.291260</td>\n",
       "      <td>machineroulette</td>\n",
       "    </tr>\n",
       "    <tr>\n",
       "      <th>155488</th>\n",
       "      <td>charte</td>\n",
       "      <td>0.161156</td>\n",
       "      <td>1.291192</td>\n",
       "      <td>charte</td>\n",
       "    </tr>\n",
       "    <tr>\n",
       "      <th>303451</th>\n",
       "      <td>myristoylated</td>\n",
       "      <td>0.157682</td>\n",
       "      <td>1.287610</td>\n",
       "      <td>myristoylated</td>\n",
       "    </tr>\n",
       "    <tr>\n",
       "      <th>229083</th>\n",
       "      <td>shannan</td>\n",
       "      <td>0.157560</td>\n",
       "      <td>1.287484</td>\n",
       "      <td>shannan</td>\n",
       "    </tr>\n",
       "    <tr>\n",
       "      <th>115739</th>\n",
       "      <td>tattletale</td>\n",
       "      <td>0.152812</td>\n",
       "      <td>1.282587</td>\n",
       "      <td>tattletale</td>\n",
       "    </tr>\n",
       "    <tr>\n",
       "      <th>132935</th>\n",
       "      <td>tangas</td>\n",
       "      <td>0.152713</td>\n",
       "      <td>1.282485</td>\n",
       "      <td>tangas</td>\n",
       "    </tr>\n",
       "    <tr>\n",
       "      <th>100000</th>\n",
       "      <td>besucht</td>\n",
       "      <td>0.152577</td>\n",
       "      <td>1.282345</td>\n",
       "      <td>besucht</td>\n",
       "    </tr>\n",
       "    <tr>\n",
       "      <th>122721</th>\n",
       "      <td>ommissions</td>\n",
       "      <td>0.144996</td>\n",
       "      <td>1.274527</td>\n",
       "      <td>ommissions</td>\n",
       "    </tr>\n",
       "    <tr>\n",
       "      <th>216502</th>\n",
       "      <td>statistiche</td>\n",
       "      <td>0.143895</td>\n",
       "      <td>1.273391</td>\n",
       "      <td>statistiche</td>\n",
       "    </tr>\n",
       "    <tr>\n",
       "      <th>266242</th>\n",
       "      <td>macrolanguage</td>\n",
       "      <td>0.139468</td>\n",
       "      <td>1.268827</td>\n",
       "      <td>macrolanguage</td>\n",
       "    </tr>\n",
       "    <tr>\n",
       "      <th>220699</th>\n",
       "      <td>transporteur</td>\n",
       "      <td>0.134319</td>\n",
       "      <td>1.263517</td>\n",
       "      <td>transporteur</td>\n",
       "    </tr>\n",
       "    <tr>\n",
       "      <th>135328</th>\n",
       "      <td>furfural</td>\n",
       "      <td>0.131220</td>\n",
       "      <td>1.260321</td>\n",
       "      <td>furfural</td>\n",
       "    </tr>\n",
       "    <tr>\n",
       "      <th>274757</th>\n",
       "      <td>myhausparty</td>\n",
       "      <td>0.130851</td>\n",
       "      <td>1.259940</td>\n",
       "      <td>myhausparty</td>\n",
       "    </tr>\n",
       "    <tr>\n",
       "      <th>111087</th>\n",
       "      <td>encryptor</td>\n",
       "      <td>0.130478</td>\n",
       "      <td>1.259556</td>\n",
       "      <td>encryptor</td>\n",
       "    </tr>\n",
       "    <tr>\n",
       "      <th>354951</th>\n",
       "      <td>theconfidentiality</td>\n",
       "      <td>0.129094</td>\n",
       "      <td>1.258129</td>\n",
       "      <td>theconfidentiality</td>\n",
       "    </tr>\n",
       "    <tr>\n",
       "      <th>203171</th>\n",
       "      <td>blucevalo</td>\n",
       "      <td>0.128496</td>\n",
       "      <td>1.257511</td>\n",
       "      <td>blucevalo</td>\n",
       "    </tr>\n",
       "    <tr>\n",
       "      <th>320780</th>\n",
       "      <td>windrowers</td>\n",
       "      <td>0.127449</td>\n",
       "      <td>1.256432</td>\n",
       "      <td>windrowers</td>\n",
       "    </tr>\n",
       "    <tr>\n",
       "      <th>118635</th>\n",
       "      <td>glaxo</td>\n",
       "      <td>0.118518</td>\n",
       "      <td>1.247222</td>\n",
       "      <td>glaxo</td>\n",
       "    </tr>\n",
       "    <tr>\n",
       "      <th>242492</th>\n",
       "      <td>polysomes</td>\n",
       "      <td>0.113766</td>\n",
       "      <td>1.242321</td>\n",
       "      <td>polysomes</td>\n",
       "    </tr>\n",
       "    <tr>\n",
       "      <th>400028</th>\n",
       "      <td>multiprecision</td>\n",
       "      <td>0.103484</td>\n",
       "      <td>1.231718</td>\n",
       "      <td>multiprecision</td>\n",
       "    </tr>\n",
       "    <tr>\n",
       "      <th>305638</th>\n",
       "      <td>motorcaravan</td>\n",
       "      <td>0.096647</td>\n",
       "      <td>1.224667</td>\n",
       "      <td>motorcaravan</td>\n",
       "    </tr>\n",
       "    <tr>\n",
       "      <th>65633</th>\n",
       "      <td>apologia</td>\n",
       "      <td>0.087257</td>\n",
       "      <td>1.214984</td>\n",
       "      <td>apologia</td>\n",
       "    </tr>\n",
       "    <tr>\n",
       "      <th>28393</th>\n",
       "      <td>rebecca</td>\n",
       "      <td>0.081613</td>\n",
       "      <td>1.209164</td>\n",
       "      <td>rebecca</td>\n",
       "    </tr>\n",
       "    <tr>\n",
       "      <th>53499</th>\n",
       "      <td>spasmodic</td>\n",
       "      <td>0.073578</td>\n",
       "      <td>1.200878</td>\n",
       "      <td>spasmodic</td>\n",
       "    </tr>\n",
       "    <tr>\n",
       "      <th>55630</th>\n",
       "      <td>subcontracted</td>\n",
       "      <td>0.054909</td>\n",
       "      <td>1.181625</td>\n",
       "      <td>subcontracted</td>\n",
       "    </tr>\n",
       "    <tr>\n",
       "      <th>35446</th>\n",
       "      <td>ripened</td>\n",
       "      <td>0.034777</td>\n",
       "      <td>1.160864</td>\n",
       "      <td>ripened</td>\n",
       "    </tr>\n",
       "    <tr>\n",
       "      <th>40813</th>\n",
       "      <td>navigators</td>\n",
       "      <td>0.023480</td>\n",
       "      <td>1.149214</td>\n",
       "      <td>navigators</td>\n",
       "    </tr>\n",
       "    <tr>\n",
       "      <th>40305</th>\n",
       "      <td>urlselftext</td>\n",
       "      <td>-0.001546</td>\n",
       "      <td>1.123406</td>\n",
       "      <td>urlselftext</td>\n",
       "    </tr>\n",
       "    <tr>\n",
       "      <th>2827</th>\n",
       "      <td>admin</td>\n",
       "      <td>-0.048019</td>\n",
       "      <td>1.075480</td>\n",
       "      <td>admin</td>\n",
       "    </tr>\n",
       "    <tr>\n",
       "      <th>14897</th>\n",
       "      <td>interfering</td>\n",
       "      <td>-0.075963</td>\n",
       "      <td>1.046663</td>\n",
       "      <td>interfering</td>\n",
       "    </tr>\n",
       "    <tr>\n",
       "      <th>2809</th>\n",
       "      <td>producing</td>\n",
       "      <td>-0.178574</td>\n",
       "      <td>0.940845</td>\n",
       "      <td>producing</td>\n",
       "    </tr>\n",
       "  </tbody>\n",
       "</table>\n",
       "</div>"
      ],
      "text/plain": [
       "                  original     score         c               fixed\n",
       "246391  koktel              0.236641  1.369036  koktel            \n",
       "227529  villainize          0.221062  1.352970  villainize        \n",
       "336553  powerstone          0.213821  1.345503  powerstone        \n",
       "220864  oddscasinos         0.201709  1.333012  oddscasinos       \n",
       "220789  tennage             0.191337  1.322317  tennage           \n",
       "388165  abouttheir          0.191151  1.322124  abouttheir        \n",
       "171695  bikepath            0.188989  1.319895  bikepath          \n",
       "278541  compresa            0.181337  1.312004  compresa          \n",
       "360206  royersford          0.178726  1.309311  royersford        \n",
       "288780  titilate            0.178356  1.308930  titilate          \n",
       "260876  clubnights          0.175727  1.306218  clubnights        \n",
       "227590  oilwell             0.175587  1.306074  oilwell           \n",
       "214281  wikianswers         0.174472  1.304925  wikianswers       \n",
       "87317   goldens             0.170638  1.300971  goldens           \n",
       "204813  foole               0.169739  1.300044  foole             \n",
       "204568  rustig              0.169352  1.299645  rustig            \n",
       "185276  miras               0.165696  1.295874  miras             \n",
       "300292  medlock             0.162891  1.292981  medlock           \n",
       "390161  xvx                 0.162465  1.292542  xvx               \n",
       "213198  machineroulette     0.161221  1.291260  machineroulette   \n",
       "155488  charte              0.161156  1.291192  charte            \n",
       "303451  myristoylated       0.157682  1.287610  myristoylated     \n",
       "229083  shannan             0.157560  1.287484  shannan           \n",
       "115739  tattletale          0.152812  1.282587  tattletale        \n",
       "132935  tangas              0.152713  1.282485  tangas            \n",
       "100000  besucht             0.152577  1.282345  besucht           \n",
       "122721  ommissions          0.144996  1.274527  ommissions        \n",
       "216502  statistiche         0.143895  1.273391  statistiche       \n",
       "266242  macrolanguage       0.139468  1.268827  macrolanguage     \n",
       "220699  transporteur        0.134319  1.263517  transporteur      \n",
       "135328  furfural            0.131220  1.260321  furfural          \n",
       "274757  myhausparty         0.130851  1.259940  myhausparty       \n",
       "111087  encryptor           0.130478  1.259556  encryptor         \n",
       "354951  theconfidentiality  0.129094  1.258129  theconfidentiality\n",
       "203171  blucevalo           0.128496  1.257511  blucevalo         \n",
       "320780  windrowers          0.127449  1.256432  windrowers        \n",
       "118635  glaxo               0.118518  1.247222  glaxo             \n",
       "242492  polysomes           0.113766  1.242321  polysomes         \n",
       "400028  multiprecision      0.103484  1.231718  multiprecision    \n",
       "305638  motorcaravan        0.096647  1.224667  motorcaravan      \n",
       "65633   apologia            0.087257  1.214984  apologia          \n",
       "28393   rebecca             0.081613  1.209164  rebecca           \n",
       "53499   spasmodic           0.073578  1.200878  spasmodic         \n",
       "55630   subcontracted       0.054909  1.181625  subcontracted     \n",
       "35446   ripened             0.034777  1.160864  ripened           \n",
       "40813   navigators          0.023480  1.149214  navigators        \n",
       "40305   urlselftext        -0.001546  1.123406  urlselftext       \n",
       "2827    admin              -0.048019  1.075480  admin             \n",
       "14897   interfering        -0.075963  1.046663  interfering       \n",
       "2809    producing          -0.178574  0.940845  producing         "
      ]
     },
     "execution_count": 111,
     "metadata": {},
     "output_type": "execute_result"
    }
   ],
   "source": [
    "allwords[allwords.fixed==allwords.original].sample(50).sort_values('score', ascending=False)"
   ]
  },
  {
   "cell_type": "markdown",
   "metadata": {},
   "source": [
    "Taking just one example from this list - 'tennage'. This looks like an obvious candidate for correction, so why hasn't our method worked?"
   ]
  },
  {
   "cell_type": "code",
   "execution_count": 120,
   "metadata": {},
   "outputs": [
    {
     "name": "stdout",
     "output_type": "stream",
     "text": [
      "[['tennage', 'teenage', 'young', 'girls', 'boys']]\n",
      "[['teenage', 'tennage', 'young', 'girls', 'individual']]\n"
     ]
    }
   ],
   "source": [
    "print(toWords(getNeighbours(['tennage'], transform_vector=spell_transform_2, c=1.32), n=5))\n",
    "print(toWords(getNeighbours(['tennage'], transform_vector=spell_transform_2, c=1.4), n=5))"
   ]
  },
  {
   "cell_type": "markdown",
   "metadata": {},
   "source": [
    "It look like the parameters need further tweaking to get to the correct answer.\n",
    "\n",
    "However, a number of the other mistakes are joined words, e.g. 'abouttheir'. This method can't help us with these examples since it can only ever map to a single word.\n",
    "\n",
    "Finally, let's save the mapping as both a python dictionary, and as a csv file."
   ]
  },
  {
   "cell_type": "code",
   "execution_count": 122,
   "metadata": {},
   "outputs": [],
   "source": [
    "import pickle\n",
    "# Save the distionary both as a pickle object and as a csv file\n",
    "spellingDict = {k:v for _, k,v in allwords.loc[allwords.fixed!=allwords.original, ['original', 'fixed']].itertuples()}\n",
    "pickle.dump(spellingDict, open('spellingDict.pkl', 'wb'))\n",
    "allwords.loc[allwords.fixed!=allwords.original, ['original', 'fixed']].to_csv('spelling_pairs.csv.gz', index=False, compression='gzip')"
   ]
  }
 ],
 "metadata": {
  "kernelspec": {
   "display_name": "Python [conda env:tflsrc3]",
   "language": "python",
   "name": "conda-env-tflsrc3-py"
  },
  "language_info": {
   "codemirror_mode": {
    "name": "ipython",
    "version": 3
   },
   "file_extension": ".py",
   "mimetype": "text/x-python",
   "name": "python",
   "nbconvert_exporter": "python",
   "pygments_lexer": "ipython3",
   "version": "3.6.3"
  },
  "toc": {
   "nav_menu": {},
   "number_sections": true,
   "sideBar": false,
   "skip_h1_title": true,
   "toc_cell": true,
   "toc_position": {},
   "toc_section_display": "block",
   "toc_window_display": false
  }
 },
 "nbformat": 4,
 "nbformat_minor": 2
}
